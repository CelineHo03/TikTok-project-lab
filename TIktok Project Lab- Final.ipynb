{
 "cells": [
  {
   "cell_type": "code",
   "execution_count": 1,
   "metadata": {
    "id": "tCni9wAGphb0"
   },
   "outputs": [],
   "source": [
    "# Import packages for data manipulation\n",
    "import pandas as pd\n",
    "import numpy as np\n",
    "\n",
    "# Import packages for data visualization\n",
    "import matplotlib.pyplot as plt\n",
    "import seaborn as sns\n",
    "\n",
    "# Import packages for data preprocessing\n",
    "from sklearn.feature_extraction.text import CountVectorizer\n",
    "\n",
    "# Import packages for data modeling\n",
    "from sklearn.model_selection import train_test_split, GridSearchCV\n",
    "from sklearn.metrics import classification_report, accuracy_score, precision_score, \\\n",
    "recall_score, f1_score, confusion_matrix, ConfusionMatrixDisplay\n",
    "\n",
    "from sklearn.ensemble import RandomForestClassifier\n",
    "from xgboost import XGBClassifier\n",
    "from xgboost import plot_importance"
   ]
  },
  {
   "cell_type": "code",
   "execution_count": 2,
   "metadata": {
    "id": "C9ODhaOppqlw"
   },
   "outputs": [],
   "source": [
    "# Load dataset into dataframe\n",
    "data = pd.read_csv(\"tiktok_dataset.csv\")"
   ]
  },
  {
   "cell_type": "code",
   "execution_count": 3,
   "metadata": {
    "id": "2rfk95MLp4a_"
   },
   "outputs": [
    {
     "data": {
      "text/html": [
       "<div>\n",
       "<style scoped>\n",
       "    .dataframe tbody tr th:only-of-type {\n",
       "        vertical-align: middle;\n",
       "    }\n",
       "\n",
       "    .dataframe tbody tr th {\n",
       "        vertical-align: top;\n",
       "    }\n",
       "\n",
       "    .dataframe thead th {\n",
       "        text-align: right;\n",
       "    }\n",
       "</style>\n",
       "<table border=\"1\" class=\"dataframe\">\n",
       "  <thead>\n",
       "    <tr style=\"text-align: right;\">\n",
       "      <th></th>\n",
       "      <th>#</th>\n",
       "      <th>claim_status</th>\n",
       "      <th>video_id</th>\n",
       "      <th>video_duration_sec</th>\n",
       "      <th>video_transcription_text</th>\n",
       "      <th>verified_status</th>\n",
       "      <th>author_ban_status</th>\n",
       "      <th>video_view_count</th>\n",
       "      <th>video_like_count</th>\n",
       "      <th>video_share_count</th>\n",
       "      <th>video_download_count</th>\n",
       "      <th>video_comment_count</th>\n",
       "    </tr>\n",
       "  </thead>\n",
       "  <tbody>\n",
       "    <tr>\n",
       "      <th>0</th>\n",
       "      <td>1</td>\n",
       "      <td>claim</td>\n",
       "      <td>7017666017</td>\n",
       "      <td>59</td>\n",
       "      <td>someone shared with me that drone deliveries a...</td>\n",
       "      <td>not verified</td>\n",
       "      <td>under review</td>\n",
       "      <td>343296.0</td>\n",
       "      <td>19425.0</td>\n",
       "      <td>241.0</td>\n",
       "      <td>1.0</td>\n",
       "      <td>0.0</td>\n",
       "    </tr>\n",
       "    <tr>\n",
       "      <th>1</th>\n",
       "      <td>2</td>\n",
       "      <td>claim</td>\n",
       "      <td>4014381136</td>\n",
       "      <td>32</td>\n",
       "      <td>someone shared with me that there are more mic...</td>\n",
       "      <td>not verified</td>\n",
       "      <td>active</td>\n",
       "      <td>140877.0</td>\n",
       "      <td>77355.0</td>\n",
       "      <td>19034.0</td>\n",
       "      <td>1161.0</td>\n",
       "      <td>684.0</td>\n",
       "    </tr>\n",
       "    <tr>\n",
       "      <th>2</th>\n",
       "      <td>3</td>\n",
       "      <td>claim</td>\n",
       "      <td>9859838091</td>\n",
       "      <td>31</td>\n",
       "      <td>someone shared with me that american industria...</td>\n",
       "      <td>not verified</td>\n",
       "      <td>active</td>\n",
       "      <td>902185.0</td>\n",
       "      <td>97690.0</td>\n",
       "      <td>2858.0</td>\n",
       "      <td>833.0</td>\n",
       "      <td>329.0</td>\n",
       "    </tr>\n",
       "    <tr>\n",
       "      <th>3</th>\n",
       "      <td>4</td>\n",
       "      <td>claim</td>\n",
       "      <td>1866847991</td>\n",
       "      <td>25</td>\n",
       "      <td>someone shared with me that the metro of st. p...</td>\n",
       "      <td>not verified</td>\n",
       "      <td>active</td>\n",
       "      <td>437506.0</td>\n",
       "      <td>239954.0</td>\n",
       "      <td>34812.0</td>\n",
       "      <td>1234.0</td>\n",
       "      <td>584.0</td>\n",
       "    </tr>\n",
       "    <tr>\n",
       "      <th>4</th>\n",
       "      <td>5</td>\n",
       "      <td>claim</td>\n",
       "      <td>7105231098</td>\n",
       "      <td>19</td>\n",
       "      <td>someone shared with me that the number of busi...</td>\n",
       "      <td>not verified</td>\n",
       "      <td>active</td>\n",
       "      <td>56167.0</td>\n",
       "      <td>34987.0</td>\n",
       "      <td>4110.0</td>\n",
       "      <td>547.0</td>\n",
       "      <td>152.0</td>\n",
       "    </tr>\n",
       "  </tbody>\n",
       "</table>\n",
       "</div>"
      ],
      "text/plain": [
       "   # claim_status    video_id  video_duration_sec  \\\n",
       "0  1        claim  7017666017                  59   \n",
       "1  2        claim  4014381136                  32   \n",
       "2  3        claim  9859838091                  31   \n",
       "3  4        claim  1866847991                  25   \n",
       "4  5        claim  7105231098                  19   \n",
       "\n",
       "                            video_transcription_text verified_status  \\\n",
       "0  someone shared with me that drone deliveries a...    not verified   \n",
       "1  someone shared with me that there are more mic...    not verified   \n",
       "2  someone shared with me that american industria...    not verified   \n",
       "3  someone shared with me that the metro of st. p...    not verified   \n",
       "4  someone shared with me that the number of busi...    not verified   \n",
       "\n",
       "  author_ban_status  video_view_count  video_like_count  video_share_count  \\\n",
       "0      under review          343296.0           19425.0              241.0   \n",
       "1            active          140877.0           77355.0            19034.0   \n",
       "2            active          902185.0           97690.0             2858.0   \n",
       "3            active          437506.0          239954.0            34812.0   \n",
       "4            active           56167.0           34987.0             4110.0   \n",
       "\n",
       "   video_download_count  video_comment_count  \n",
       "0                   1.0                  0.0  \n",
       "1                1161.0                684.0  \n",
       "2                 833.0                329.0  \n",
       "3                1234.0                584.0  \n",
       "4                 547.0                152.0  "
      ]
     },
     "execution_count": 3,
     "metadata": {},
     "output_type": "execute_result"
    }
   ],
   "source": [
    "# Display first few rows\n",
    "data.head(5)"
   ]
  },
  {
   "cell_type": "markdown",
   "metadata": {
    "id": "66KOxKCx977b"
   },
   "source": [
    "Get the number of rows and columns in the dataset."
   ]
  },
  {
   "cell_type": "code",
   "execution_count": 4,
   "metadata": {
    "id": "kYwW-G1WqX3R"
   },
   "outputs": [
    {
     "name": "stdout",
     "output_type": "stream",
     "text": [
      "<class 'pandas.core.frame.DataFrame'>\n",
      "RangeIndex: 19382 entries, 0 to 19381\n",
      "Data columns (total 12 columns):\n",
      " #   Column                    Non-Null Count  Dtype  \n",
      "---  ------                    --------------  -----  \n",
      " 0   #                         19382 non-null  int64  \n",
      " 1   claim_status              19084 non-null  object \n",
      " 2   video_id                  19382 non-null  int64  \n",
      " 3   video_duration_sec        19382 non-null  int64  \n",
      " 4   video_transcription_text  19084 non-null  object \n",
      " 5   verified_status           19382 non-null  object \n",
      " 6   author_ban_status         19382 non-null  object \n",
      " 7   video_view_count          19084 non-null  float64\n",
      " 8   video_like_count          19084 non-null  float64\n",
      " 9   video_share_count         19084 non-null  float64\n",
      " 10  video_download_count      19084 non-null  float64\n",
      " 11  video_comment_count       19084 non-null  float64\n",
      "dtypes: float64(5), int64(3), object(4)\n",
      "memory usage: 1.8+ MB\n"
     ]
    }
   ],
   "source": [
    "# Get number of rows and columns\n",
    "data.info()"
   ]
  },
  {
   "cell_type": "markdown",
   "metadata": {
    "id": "aP-NbEGdEio8"
   },
   "source": [
    "Get the data types of the columns."
   ]
  },
  {
   "cell_type": "code",
   "execution_count": 5,
   "metadata": {
    "id": "rbpDgrXfEoVj"
   },
   "outputs": [
    {
     "data": {
      "text/plain": [
       "(19382, 12)"
      ]
     },
     "execution_count": 5,
     "metadata": {},
     "output_type": "execute_result"
    }
   ],
   "source": [
    "# Get data types of columns\n",
    "data.shape"
   ]
  },
  {
   "cell_type": "markdown",
   "metadata": {
    "id": "URuRVjUZ_Axg"
   },
   "source": [
    "Get basic information about the dataset."
   ]
  },
  {
   "cell_type": "code",
   "execution_count": 6,
   "metadata": {
    "id": "zyyKCGzCp7SS"
   },
   "outputs": [
    {
     "name": "stdout",
     "output_type": "stream",
     "text": [
      "<class 'pandas.core.frame.DataFrame'>\n",
      "RangeIndex: 19382 entries, 0 to 19381\n",
      "Data columns (total 12 columns):\n",
      " #   Column                    Non-Null Count  Dtype  \n",
      "---  ------                    --------------  -----  \n",
      " 0   #                         19382 non-null  int64  \n",
      " 1   claim_status              19084 non-null  object \n",
      " 2   video_id                  19382 non-null  int64  \n",
      " 3   video_duration_sec        19382 non-null  int64  \n",
      " 4   video_transcription_text  19084 non-null  object \n",
      " 5   verified_status           19382 non-null  object \n",
      " 6   author_ban_status         19382 non-null  object \n",
      " 7   video_view_count          19084 non-null  float64\n",
      " 8   video_like_count          19084 non-null  float64\n",
      " 9   video_share_count         19084 non-null  float64\n",
      " 10  video_download_count      19084 non-null  float64\n",
      " 11  video_comment_count       19084 non-null  float64\n",
      "dtypes: float64(5), int64(3), object(4)\n",
      "memory usage: 1.8+ MB\n"
     ]
    }
   ],
   "source": [
    "# Get basic information\n",
    "data.info()"
   ]
  },
  {
   "cell_type": "markdown",
   "metadata": {
    "id": "0T5Ieb6WB61Q"
   },
   "source": [
    "Generate basic descriptive statistics about the dataset."
   ]
  },
  {
   "cell_type": "code",
   "execution_count": 7,
   "metadata": {
    "id": "HbpuAS2UqY01"
   },
   "outputs": [
    {
     "data": {
      "text/html": [
       "<div>\n",
       "<style scoped>\n",
       "    .dataframe tbody tr th:only-of-type {\n",
       "        vertical-align: middle;\n",
       "    }\n",
       "\n",
       "    .dataframe tbody tr th {\n",
       "        vertical-align: top;\n",
       "    }\n",
       "\n",
       "    .dataframe thead th {\n",
       "        text-align: right;\n",
       "    }\n",
       "</style>\n",
       "<table border=\"1\" class=\"dataframe\">\n",
       "  <thead>\n",
       "    <tr style=\"text-align: right;\">\n",
       "      <th></th>\n",
       "      <th>#</th>\n",
       "      <th>video_id</th>\n",
       "      <th>video_duration_sec</th>\n",
       "      <th>video_view_count</th>\n",
       "      <th>video_like_count</th>\n",
       "      <th>video_share_count</th>\n",
       "      <th>video_download_count</th>\n",
       "      <th>video_comment_count</th>\n",
       "    </tr>\n",
       "  </thead>\n",
       "  <tbody>\n",
       "    <tr>\n",
       "      <th>count</th>\n",
       "      <td>19382.000000</td>\n",
       "      <td>1.938200e+04</td>\n",
       "      <td>19382.000000</td>\n",
       "      <td>19084.000000</td>\n",
       "      <td>19084.000000</td>\n",
       "      <td>19084.000000</td>\n",
       "      <td>19084.000000</td>\n",
       "      <td>19084.000000</td>\n",
       "    </tr>\n",
       "    <tr>\n",
       "      <th>mean</th>\n",
       "      <td>9691.500000</td>\n",
       "      <td>5.627454e+09</td>\n",
       "      <td>32.421732</td>\n",
       "      <td>254708.558688</td>\n",
       "      <td>84304.636030</td>\n",
       "      <td>16735.248323</td>\n",
       "      <td>1049.429627</td>\n",
       "      <td>349.312146</td>\n",
       "    </tr>\n",
       "    <tr>\n",
       "      <th>std</th>\n",
       "      <td>5595.245794</td>\n",
       "      <td>2.536440e+09</td>\n",
       "      <td>16.229967</td>\n",
       "      <td>322893.280814</td>\n",
       "      <td>133420.546814</td>\n",
       "      <td>32036.174350</td>\n",
       "      <td>2004.299894</td>\n",
       "      <td>799.638865</td>\n",
       "    </tr>\n",
       "    <tr>\n",
       "      <th>min</th>\n",
       "      <td>1.000000</td>\n",
       "      <td>1.234959e+09</td>\n",
       "      <td>5.000000</td>\n",
       "      <td>20.000000</td>\n",
       "      <td>0.000000</td>\n",
       "      <td>0.000000</td>\n",
       "      <td>0.000000</td>\n",
       "      <td>0.000000</td>\n",
       "    </tr>\n",
       "    <tr>\n",
       "      <th>25%</th>\n",
       "      <td>4846.250000</td>\n",
       "      <td>3.430417e+09</td>\n",
       "      <td>18.000000</td>\n",
       "      <td>4942.500000</td>\n",
       "      <td>810.750000</td>\n",
       "      <td>115.000000</td>\n",
       "      <td>7.000000</td>\n",
       "      <td>1.000000</td>\n",
       "    </tr>\n",
       "    <tr>\n",
       "      <th>50%</th>\n",
       "      <td>9691.500000</td>\n",
       "      <td>5.618664e+09</td>\n",
       "      <td>32.000000</td>\n",
       "      <td>9954.500000</td>\n",
       "      <td>3403.500000</td>\n",
       "      <td>717.000000</td>\n",
       "      <td>46.000000</td>\n",
       "      <td>9.000000</td>\n",
       "    </tr>\n",
       "    <tr>\n",
       "      <th>75%</th>\n",
       "      <td>14536.750000</td>\n",
       "      <td>7.843960e+09</td>\n",
       "      <td>47.000000</td>\n",
       "      <td>504327.000000</td>\n",
       "      <td>125020.000000</td>\n",
       "      <td>18222.000000</td>\n",
       "      <td>1156.250000</td>\n",
       "      <td>292.000000</td>\n",
       "    </tr>\n",
       "    <tr>\n",
       "      <th>max</th>\n",
       "      <td>19382.000000</td>\n",
       "      <td>9.999873e+09</td>\n",
       "      <td>60.000000</td>\n",
       "      <td>999817.000000</td>\n",
       "      <td>657830.000000</td>\n",
       "      <td>256130.000000</td>\n",
       "      <td>14994.000000</td>\n",
       "      <td>9599.000000</td>\n",
       "    </tr>\n",
       "  </tbody>\n",
       "</table>\n",
       "</div>"
      ],
      "text/plain": [
       "                  #      video_id  video_duration_sec  video_view_count  \\\n",
       "count  19382.000000  1.938200e+04        19382.000000      19084.000000   \n",
       "mean    9691.500000  5.627454e+09           32.421732     254708.558688   \n",
       "std     5595.245794  2.536440e+09           16.229967     322893.280814   \n",
       "min        1.000000  1.234959e+09            5.000000         20.000000   \n",
       "25%     4846.250000  3.430417e+09           18.000000       4942.500000   \n",
       "50%     9691.500000  5.618664e+09           32.000000       9954.500000   \n",
       "75%    14536.750000  7.843960e+09           47.000000     504327.000000   \n",
       "max    19382.000000  9.999873e+09           60.000000     999817.000000   \n",
       "\n",
       "       video_like_count  video_share_count  video_download_count  \\\n",
       "count      19084.000000       19084.000000          19084.000000   \n",
       "mean       84304.636030       16735.248323           1049.429627   \n",
       "std       133420.546814       32036.174350           2004.299894   \n",
       "min            0.000000           0.000000              0.000000   \n",
       "25%          810.750000         115.000000              7.000000   \n",
       "50%         3403.500000         717.000000             46.000000   \n",
       "75%       125020.000000       18222.000000           1156.250000   \n",
       "max       657830.000000      256130.000000          14994.000000   \n",
       "\n",
       "       video_comment_count  \n",
       "count         19084.000000  \n",
       "mean            349.312146  \n",
       "std             799.638865  \n",
       "min               0.000000  \n",
       "25%               1.000000  \n",
       "50%               9.000000  \n",
       "75%             292.000000  \n",
       "max            9599.000000  "
      ]
     },
     "execution_count": 7,
     "metadata": {},
     "output_type": "execute_result"
    }
   ],
   "source": [
    "# Generate basic descriptive stats\n",
    "data.describe()"
   ]
  },
  {
   "cell_type": "markdown",
   "metadata": {
    "id": "9OpeNQDdyIT6"
   },
   "source": [
    "Check for and handle missing values."
   ]
  },
  {
   "cell_type": "code",
   "execution_count": 8,
   "metadata": {
    "id": "BrunHcfa7xnT"
   },
   "outputs": [
    {
     "data": {
      "text/plain": [
       "#                             0\n",
       "claim_status                298\n",
       "video_id                      0\n",
       "video_duration_sec            0\n",
       "video_transcription_text    298\n",
       "verified_status               0\n",
       "author_ban_status             0\n",
       "video_view_count            298\n",
       "video_like_count            298\n",
       "video_share_count           298\n",
       "video_download_count        298\n",
       "video_comment_count         298\n",
       "dtype: int64"
      ]
     },
     "execution_count": 8,
     "metadata": {},
     "output_type": "execute_result"
    }
   ],
   "source": [
    "# Check for missing values\n",
    "data.isna().sum()"
   ]
  },
  {
   "cell_type": "code",
   "execution_count": 9,
   "metadata": {
    "id": "SHSj1Hma914I"
   },
   "outputs": [],
   "source": [
    "# Drop rows with missing values\n",
    "data = data.dropna(axis=0)"
   ]
  },
  {
   "cell_type": "markdown",
   "metadata": {
    "id": "XcfffpANyNiu"
   },
   "source": [
    "Check for and handle duplicates."
   ]
  },
  {
   "cell_type": "code",
   "execution_count": 12,
   "metadata": {
    "id": "dQauKR11fyxb"
   },
   "outputs": [
    {
     "data": {
      "text/plain": [
       "claim_status\n",
       "claim      0.503458\n",
       "opinion    0.496542\n",
       "Name: proportion, dtype: float64"
      ]
     },
     "execution_count": 12,
     "metadata": {},
     "output_type": "execute_result"
    }
   ],
   "source": [
    "# Check class balance\n",
    "data['claim_status'].value_counts(normalize = True)"
   ]
  },
  {
   "cell_type": "markdown",
   "metadata": {},
   "source": [
    "approximately 50.3% of the dataset represents claims and 49.7% represents opinions, so the outcome variable is balanced."
   ]
  },
  {
   "cell_type": "markdown",
   "metadata": {
    "id": "8i0spBspquCr"
   },
   "source": [
    "### **Task 3: Feature engineering**"
   ]
  },
  {
   "cell_type": "markdown",
   "metadata": {
    "id": "hb_u1c6_T1i-"
   },
   "source": [
    "Extract the length of each `video_transcription_text` and add this as a column to the dataframe, so that it can be used as a potential feature in the model."
   ]
  },
  {
   "cell_type": "code",
   "execution_count": 13,
   "metadata": {
    "id": "8Yr9hhhVHeYY"
   },
   "outputs": [
    {
     "data": {
      "text/plain": [
       "array(['under review', 'active', 'banned'], dtype=object)"
      ]
     },
     "execution_count": 13,
     "metadata": {},
     "output_type": "execute_result"
    }
   ],
   "source": [
    "# Extract the length of each `video_transcription_text` and add this as a column to the dataframe\n",
    "data['text_length'] = data['video_transcription_text'].str.len()\n",
    "data.head(10)\n",
    "data['author_ban_status'].unique()"
   ]
  },
  {
   "cell_type": "markdown",
   "metadata": {
    "id": "puP-V85lq06h"
   },
   "source": [
    "Calculate the average text_length for claims and opinions."
   ]
  },
  {
   "cell_type": "code",
   "execution_count": 14,
   "metadata": {
    "id": "Vzg0J8UEJ1wx"
   },
   "outputs": [
    {
     "data": {
      "text/html": [
       "<div>\n",
       "<style scoped>\n",
       "    .dataframe tbody tr th:only-of-type {\n",
       "        vertical-align: middle;\n",
       "    }\n",
       "\n",
       "    .dataframe tbody tr th {\n",
       "        vertical-align: top;\n",
       "    }\n",
       "\n",
       "    .dataframe thead th {\n",
       "        text-align: right;\n",
       "    }\n",
       "</style>\n",
       "<table border=\"1\" class=\"dataframe\">\n",
       "  <thead>\n",
       "    <tr style=\"text-align: right;\">\n",
       "      <th></th>\n",
       "      <th>text_length</th>\n",
       "    </tr>\n",
       "    <tr>\n",
       "      <th>claim_status</th>\n",
       "      <th></th>\n",
       "    </tr>\n",
       "  </thead>\n",
       "  <tbody>\n",
       "    <tr>\n",
       "      <th>claim</th>\n",
       "      <td>95.376978</td>\n",
       "    </tr>\n",
       "    <tr>\n",
       "      <th>opinion</th>\n",
       "      <td>82.722562</td>\n",
       "    </tr>\n",
       "  </tbody>\n",
       "</table>\n",
       "</div>"
      ],
      "text/plain": [
       "              text_length\n",
       "claim_status             \n",
       "claim           95.376978\n",
       "opinion         82.722562"
      ]
     },
     "execution_count": 14,
     "metadata": {},
     "output_type": "execute_result"
    }
   ],
   "source": [
    "# Calculate the average text_length for claims and opinions\n",
    "data[['claim_status', 'text_length']].groupby('claim_status').mean()"
   ]
  },
  {
   "cell_type": "markdown",
   "metadata": {
    "id": "LGu7ipi4AJmP"
   },
   "source": [
    "Visualize the distribution of `text_length` for claims and opinions."
   ]
  },
  {
   "cell_type": "code",
   "execution_count": 15,
   "metadata": {
    "id": "MSq136S3TIYe"
   },
   "outputs": [
    {
     "data": {
      "image/png": "[encoded data removed]",
      "text/plain": [
       "<Figure size 640x480 with 1 Axes>"
      ]
     },
     "metadata": {},
     "output_type": "display_data"
    }
   ],
   "source": [
    "# Visualize the distribution of `text_length` for claims and opinions\n",
    "# Create two histograms in one plot\n",
    "sns.histplot(data=data, stat='count', multiple='dodge', x='text_length', palette='pastel', hue='claim_status')\n",
    "plt.xlabel('video_transcription_text length (number of characters)')\n",
    "plt.ylabel('Count')\n",
    "plt.title('Distribution of video_transcription_text length for claims and opinions')\n",
    "plt.show()\n"
   ]
  },
  {
   "cell_type": "markdown",
   "metadata": {},
   "source": [
    "**Feature selection and transformation**"
   ]
  },
  {
   "cell_type": "markdown",
   "metadata": {},
   "source": [
    "Encode target and catgorical variables."
   ]
  },
  {
   "cell_type": "code",
   "execution_count": 16,
   "metadata": {},
   "outputs": [
    {
     "data": {
      "text/html": [
       "<div>\n",
       "<style scoped>\n",
       "    .dataframe tbody tr th:only-of-type {\n",
       "        vertical-align: middle;\n",
       "    }\n",
       "\n",
       "    .dataframe tbody tr th {\n",
       "        vertical-align: top;\n",
       "    }\n",
       "\n",
       "    .dataframe thead th {\n",
       "        text-align: right;\n",
       "    }\n",
       "</style>\n",
       "<table border=\"1\" class=\"dataframe\">\n",
       "  <thead>\n",
       "    <tr style=\"text-align: right;\">\n",
       "      <th></th>\n",
       "      <th>claim_status</th>\n",
       "      <th>video_duration_sec</th>\n",
       "      <th>video_transcription_text</th>\n",
       "      <th>video_view_count</th>\n",
       "      <th>video_like_count</th>\n",
       "      <th>video_share_count</th>\n",
       "      <th>video_download_count</th>\n",
       "      <th>video_comment_count</th>\n",
       "      <th>text_length</th>\n",
       "      <th>verified_status_verified</th>\n",
       "      <th>author_ban_status_banned</th>\n",
       "      <th>author_ban_status_under review</th>\n",
       "    </tr>\n",
       "  </thead>\n",
       "  <tbody>\n",
       "    <tr>\n",
       "      <th>0</th>\n",
       "      <td>1</td>\n",
       "      <td>59</td>\n",
       "      <td>someone shared with me that drone deliveries a...</td>\n",
       "      <td>343296.0</td>\n",
       "      <td>19425.0</td>\n",
       "      <td>241.0</td>\n",
       "      <td>1.0</td>\n",
       "      <td>0.0</td>\n",
       "      <td>97</td>\n",
       "      <td>False</td>\n",
       "      <td>False</td>\n",
       "      <td>True</td>\n",
       "    </tr>\n",
       "    <tr>\n",
       "      <th>1</th>\n",
       "      <td>1</td>\n",
       "      <td>32</td>\n",
       "      <td>someone shared with me that there are more mic...</td>\n",
       "      <td>140877.0</td>\n",
       "      <td>77355.0</td>\n",
       "      <td>19034.0</td>\n",
       "      <td>1161.0</td>\n",
       "      <td>684.0</td>\n",
       "      <td>107</td>\n",
       "      <td>False</td>\n",
       "      <td>False</td>\n",
       "      <td>False</td>\n",
       "    </tr>\n",
       "    <tr>\n",
       "      <th>2</th>\n",
       "      <td>1</td>\n",
       "      <td>31</td>\n",
       "      <td>someone shared with me that american industria...</td>\n",
       "      <td>902185.0</td>\n",
       "      <td>97690.0</td>\n",
       "      <td>2858.0</td>\n",
       "      <td>833.0</td>\n",
       "      <td>329.0</td>\n",
       "      <td>137</td>\n",
       "      <td>False</td>\n",
       "      <td>False</td>\n",
       "      <td>False</td>\n",
       "    </tr>\n",
       "    <tr>\n",
       "      <th>3</th>\n",
       "      <td>1</td>\n",
       "      <td>25</td>\n",
       "      <td>someone shared with me that the metro of st. p...</td>\n",
       "      <td>437506.0</td>\n",
       "      <td>239954.0</td>\n",
       "      <td>34812.0</td>\n",
       "      <td>1234.0</td>\n",
       "      <td>584.0</td>\n",
       "      <td>131</td>\n",
       "      <td>False</td>\n",
       "      <td>False</td>\n",
       "      <td>False</td>\n",
       "    </tr>\n",
       "    <tr>\n",
       "      <th>4</th>\n",
       "      <td>1</td>\n",
       "      <td>19</td>\n",
       "      <td>someone shared with me that the number of busi...</td>\n",
       "      <td>56167.0</td>\n",
       "      <td>34987.0</td>\n",
       "      <td>4110.0</td>\n",
       "      <td>547.0</td>\n",
       "      <td>152.0</td>\n",
       "      <td>128</td>\n",
       "      <td>False</td>\n",
       "      <td>False</td>\n",
       "      <td>False</td>\n",
       "    </tr>\n",
       "  </tbody>\n",
       "</table>\n",
       "</div>"
      ],
      "text/plain": [
       "   claim_status  video_duration_sec  \\\n",
       "0             1                  59   \n",
       "1             1                  32   \n",
       "2             1                  31   \n",
       "3             1                  25   \n",
       "4             1                  19   \n",
       "\n",
       "                            video_transcription_text  video_view_count  \\\n",
       "0  someone shared with me that drone deliveries a...          343296.0   \n",
       "1  someone shared with me that there are more mic...          140877.0   \n",
       "2  someone shared with me that american industria...          902185.0   \n",
       "3  someone shared with me that the metro of st. p...          437506.0   \n",
       "4  someone shared with me that the number of busi...           56167.0   \n",
       "\n",
       "   video_like_count  video_share_count  video_download_count  \\\n",
       "0           19425.0              241.0                   1.0   \n",
       "1           77355.0            19034.0                1161.0   \n",
       "2           97690.0             2858.0                 833.0   \n",
       "3          239954.0            34812.0                1234.0   \n",
       "4           34987.0             4110.0                 547.0   \n",
       "\n",
       "   video_comment_count  text_length  verified_status_verified  \\\n",
       "0                  0.0           97                     False   \n",
       "1                684.0          107                     False   \n",
       "2                329.0          137                     False   \n",
       "3                584.0          131                     False   \n",
       "4                152.0          128                     False   \n",
       "\n",
       "   author_ban_status_banned  author_ban_status_under review  \n",
       "0                     False                            True  \n",
       "1                     False                           False  \n",
       "2                     False                           False  \n",
       "3                     False                           False  \n",
       "4                     False                           False  "
      ]
     },
     "execution_count": 16,
     "metadata": {},
     "output_type": "execute_result"
    }
   ],
   "source": [
    "# Create a copy of the X data\n",
    "x = data.copy()\n",
    "# Drop unnecessary columns\n",
    "x = x.drop(['#', 'video_id'], axis=1)\n",
    "# Encode target variable\n",
    "x['claim_status'] = x['claim_status'].replace({'opinion':0, 'claim':1})\n",
    "# Dummy encode remaining categorical values\n",
    "x = pd.get_dummies(x,\n",
    "                  columns = ['verified_status', 'author_ban_status'],\n",
    "                  drop_first = True)\n",
    "x.head()"
   ]
  },
  {
   "cell_type": "markdown",
   "metadata": {
    "id": "6frX3ATWZVgL"
   },
   "source": [
    "### **Task 4: Split the data**"
   ]
  },
  {
   "cell_type": "markdown",
   "metadata": {},
   "source": [
    "Assign target variable."
   ]
  },
  {
   "cell_type": "code",
   "execution_count": 17,
   "metadata": {},
   "outputs": [],
   "source": [
    "# Isolate target variable\n",
    "y= x['claim_status']"
   ]
  },
  {
   "cell_type": "markdown",
   "metadata": {},
   "source": [
    "Isolate the features."
   ]
  },
  {
   "cell_type": "code",
   "execution_count": 18,
   "metadata": {},
   "outputs": [
    {
     "data": {
      "text/html": [
       "<div>\n",
       "<style scoped>\n",
       "    .dataframe tbody tr th:only-of-type {\n",
       "        vertical-align: middle;\n",
       "    }\n",
       "\n",
       "    .dataframe tbody tr th {\n",
       "        vertical-align: top;\n",
       "    }\n",
       "\n",
       "    .dataframe thead th {\n",
       "        text-align: right;\n",
       "    }\n",
       "</style>\n",
       "<table border=\"1\" class=\"dataframe\">\n",
       "  <thead>\n",
       "    <tr style=\"text-align: right;\">\n",
       "      <th></th>\n",
       "      <th>video_duration_sec</th>\n",
       "      <th>video_transcription_text</th>\n",
       "      <th>video_view_count</th>\n",
       "      <th>video_like_count</th>\n",
       "      <th>video_share_count</th>\n",
       "      <th>video_download_count</th>\n",
       "      <th>video_comment_count</th>\n",
       "      <th>text_length</th>\n",
       "      <th>verified_status_verified</th>\n",
       "      <th>author_ban_status_banned</th>\n",
       "      <th>author_ban_status_under review</th>\n",
       "    </tr>\n",
       "  </thead>\n",
       "  <tbody>\n",
       "    <tr>\n",
       "      <th>0</th>\n",
       "      <td>59</td>\n",
       "      <td>someone shared with me that drone deliveries a...</td>\n",
       "      <td>343296.0</td>\n",
       "      <td>19425.0</td>\n",
       "      <td>241.0</td>\n",
       "      <td>1.0</td>\n",
       "      <td>0.0</td>\n",
       "      <td>97</td>\n",
       "      <td>False</td>\n",
       "      <td>False</td>\n",
       "      <td>True</td>\n",
       "    </tr>\n",
       "    <tr>\n",
       "      <th>1</th>\n",
       "      <td>32</td>\n",
       "      <td>someone shared with me that there are more mic...</td>\n",
       "      <td>140877.0</td>\n",
       "      <td>77355.0</td>\n",
       "      <td>19034.0</td>\n",
       "      <td>1161.0</td>\n",
       "      <td>684.0</td>\n",
       "      <td>107</td>\n",
       "      <td>False</td>\n",
       "      <td>False</td>\n",
       "      <td>False</td>\n",
       "    </tr>\n",
       "    <tr>\n",
       "      <th>2</th>\n",
       "      <td>31</td>\n",
       "      <td>someone shared with me that american industria...</td>\n",
       "      <td>902185.0</td>\n",
       "      <td>97690.0</td>\n",
       "      <td>2858.0</td>\n",
       "      <td>833.0</td>\n",
       "      <td>329.0</td>\n",
       "      <td>137</td>\n",
       "      <td>False</td>\n",
       "      <td>False</td>\n",
       "      <td>False</td>\n",
       "    </tr>\n",
       "    <tr>\n",
       "      <th>3</th>\n",
       "      <td>25</td>\n",
       "      <td>someone shared with me that the metro of st. p...</td>\n",
       "      <td>437506.0</td>\n",
       "      <td>239954.0</td>\n",
       "      <td>34812.0</td>\n",
       "      <td>1234.0</td>\n",
       "      <td>584.0</td>\n",
       "      <td>131</td>\n",
       "      <td>False</td>\n",
       "      <td>False</td>\n",
       "      <td>False</td>\n",
       "    </tr>\n",
       "    <tr>\n",
       "      <th>4</th>\n",
       "      <td>19</td>\n",
       "      <td>someone shared with me that the number of busi...</td>\n",
       "      <td>56167.0</td>\n",
       "      <td>34987.0</td>\n",
       "      <td>4110.0</td>\n",
       "      <td>547.0</td>\n",
       "      <td>152.0</td>\n",
       "      <td>128</td>\n",
       "      <td>False</td>\n",
       "      <td>False</td>\n",
       "      <td>False</td>\n",
       "    </tr>\n",
       "  </tbody>\n",
       "</table>\n",
       "</div>"
      ],
      "text/plain": [
       "   video_duration_sec                           video_transcription_text  \\\n",
       "0                  59  someone shared with me that drone deliveries a...   \n",
       "1                  32  someone shared with me that there are more mic...   \n",
       "2                  31  someone shared with me that american industria...   \n",
       "3                  25  someone shared with me that the metro of st. p...   \n",
       "4                  19  someone shared with me that the number of busi...   \n",
       "\n",
       "   video_view_count  video_like_count  video_share_count  \\\n",
       "0          343296.0           19425.0              241.0   \n",
       "1          140877.0           77355.0            19034.0   \n",
       "2          902185.0           97690.0             2858.0   \n",
       "3          437506.0          239954.0            34812.0   \n",
       "4           56167.0           34987.0             4110.0   \n",
       "\n",
       "   video_download_count  video_comment_count  text_length  \\\n",
       "0                   1.0                  0.0           97   \n",
       "1                1161.0                684.0          107   \n",
       "2                 833.0                329.0          137   \n",
       "3                1234.0                584.0          131   \n",
       "4                 547.0                152.0          128   \n",
       "\n",
       "   verified_status_verified  author_ban_status_banned  \\\n",
       "0                     False                     False   \n",
       "1                     False                     False   \n",
       "2                     False                     False   \n",
       "3                     False                     False   \n",
       "4                     False                     False   \n",
       "\n",
       "   author_ban_status_under review  \n",
       "0                            True  \n",
       "1                           False  \n",
       "2                           False  \n",
       "3                           False  \n",
       "4                           False  "
      ]
     },
     "execution_count": 18,
     "metadata": {},
     "output_type": "execute_result"
    }
   ],
   "source": [
    "# Isolate features\n",
    "x = x.drop(['claim_status'], axis=1)\n",
    "# Display first few rows of features dataframe\n",
    "x.head()"
   ]
  },
  {
   "cell_type": "markdown",
   "metadata": {},
   "source": [
    "#### **Task 5: Create train/validate/test sets**"
   ]
  },
  {
   "cell_type": "markdown",
   "metadata": {
    "id": "i_3k0QfaNt1R"
   },
   "source": [
    "Split data into training and testing sets, 80/20."
   ]
  },
  {
   "cell_type": "code",
   "execution_count": 19,
   "metadata": {
    "id": "D5OpxNZYOISV"
   },
   "outputs": [],
   "source": [
    "# Split the data into training and testing sets\n",
    "x_tr, x_test, y_tr, y_test = train_test_split(x,y, test_size = 0.2, random_state=0)"
   ]
  },
  {
   "cell_type": "markdown",
   "metadata": {
    "id": "rbpnEjop82zL"
   },
   "source": [
    "Split the training set into training and validation sets, 75/25, to result in a final ratio of 60/20/20 for train/validate/test sets."
   ]
  },
  {
   "cell_type": "code",
   "execution_count": 20,
   "metadata": {
    "id": "A9O-DjLxOJvT"
   },
   "outputs": [],
   "source": [
    "# Split the training data into training and validation sets\n",
    "x_train, x_val, y_train, y_val = train_test_split(x_tr, y_tr, test_size = 0.25, random_state=0)"
   ]
  },
  {
   "cell_type": "markdown",
   "metadata": {
    "id": "tJ60GPLdOMXr"
   },
   "source": [
    "Confirm that the dimensions of the training, validation, and testing sets are in alignment."
   ]
  },
  {
   "cell_type": "code",
   "execution_count": 21,
   "metadata": {
    "id": "TefBRXUu8zWR"
   },
   "outputs": [
    {
     "data": {
      "text/plain": [
       "((11450, 11), (3817, 11), (11450,), (3817,), (3817, 11), (3817,))"
      ]
     },
     "execution_count": 21,
     "metadata": {},
     "output_type": "execute_result"
    }
   ],
   "source": [
    "# Get shape of each training, validation, and testing set\n",
    "x_train.shape, x_val.shape, y_train.shape, y_val.shape, x_test.shape, y_test.shape\n"
   ]
  },
  {
   "cell_type": "markdown",
   "metadata": {
    "id": "3_es-Jh1atUz"
   },
   "source": [
    "### **Task 6. Build models**\n"
   ]
  },
  {
   "cell_type": "markdown",
   "metadata": {},
   "source": [
    "- countvectorizer scan through the text in x_train\n",
    "- fit_transform learns the vocab and transform the text data into a sparse matrix where each row is a document and each column represents an n-gram.\n",
    "- toarray converts parse matrix into a numpy array\n",
    "- then pd.dataframe converts the array into a readable dataframe\n",
    "- count_vec.get_feature_names_out retrieves the actual ngrams into columns names"
   ]
  },
  {
   "cell_type": "code",
   "execution_count": 22,
   "metadata": {},
   "outputs": [
    {
     "data": {
      "text/html": [
       "<div>\n",
       "<style scoped>\n",
       "    .dataframe tbody tr th:only-of-type {\n",
       "        vertical-align: middle;\n",
       "    }\n",
       "\n",
       "    .dataframe tbody tr th {\n",
       "        vertical-align: top;\n",
       "    }\n",
       "\n",
       "    .dataframe thead th {\n",
       "        text-align: right;\n",
       "    }\n",
       "</style>\n",
       "<table border=\"1\" class=\"dataframe\">\n",
       "  <thead>\n",
       "    <tr style=\"text-align: right;\">\n",
       "      <th></th>\n",
       "      <th>colleague discovered</th>\n",
       "      <th>colleague learned</th>\n",
       "      <th>colleague read</th>\n",
       "      <th>discovered news</th>\n",
       "      <th>discussion board</th>\n",
       "      <th>friend learned</th>\n",
       "      <th>friend read</th>\n",
       "      <th>internet forum</th>\n",
       "      <th>learned media</th>\n",
       "      <th>media claim</th>\n",
       "      <th>news claim</th>\n",
       "      <th>point view</th>\n",
       "      <th>read media</th>\n",
       "      <th>social media</th>\n",
       "      <th>willing wager</th>\n",
       "    </tr>\n",
       "  </thead>\n",
       "  <tbody>\n",
       "    <tr>\n",
       "      <th>0</th>\n",
       "      <td>0</td>\n",
       "      <td>0</td>\n",
       "      <td>0</td>\n",
       "      <td>0</td>\n",
       "      <td>0</td>\n",
       "      <td>0</td>\n",
       "      <td>0</td>\n",
       "      <td>0</td>\n",
       "      <td>0</td>\n",
       "      <td>0</td>\n",
       "      <td>0</td>\n",
       "      <td>0</td>\n",
       "      <td>0</td>\n",
       "      <td>0</td>\n",
       "      <td>0</td>\n",
       "    </tr>\n",
       "    <tr>\n",
       "      <th>1</th>\n",
       "      <td>0</td>\n",
       "      <td>0</td>\n",
       "      <td>0</td>\n",
       "      <td>0</td>\n",
       "      <td>0</td>\n",
       "      <td>0</td>\n",
       "      <td>1</td>\n",
       "      <td>0</td>\n",
       "      <td>0</td>\n",
       "      <td>0</td>\n",
       "      <td>0</td>\n",
       "      <td>0</td>\n",
       "      <td>0</td>\n",
       "      <td>0</td>\n",
       "      <td>0</td>\n",
       "    </tr>\n",
       "    <tr>\n",
       "      <th>2</th>\n",
       "      <td>0</td>\n",
       "      <td>0</td>\n",
       "      <td>0</td>\n",
       "      <td>0</td>\n",
       "      <td>0</td>\n",
       "      <td>0</td>\n",
       "      <td>1</td>\n",
       "      <td>0</td>\n",
       "      <td>0</td>\n",
       "      <td>0</td>\n",
       "      <td>0</td>\n",
       "      <td>0</td>\n",
       "      <td>0</td>\n",
       "      <td>0</td>\n",
       "      <td>0</td>\n",
       "    </tr>\n",
       "    <tr>\n",
       "      <th>3</th>\n",
       "      <td>0</td>\n",
       "      <td>0</td>\n",
       "      <td>0</td>\n",
       "      <td>0</td>\n",
       "      <td>0</td>\n",
       "      <td>0</td>\n",
       "      <td>0</td>\n",
       "      <td>0</td>\n",
       "      <td>0</td>\n",
       "      <td>0</td>\n",
       "      <td>0</td>\n",
       "      <td>0</td>\n",
       "      <td>0</td>\n",
       "      <td>0</td>\n",
       "      <td>0</td>\n",
       "    </tr>\n",
       "    <tr>\n",
       "      <th>4</th>\n",
       "      <td>0</td>\n",
       "      <td>0</td>\n",
       "      <td>0</td>\n",
       "      <td>0</td>\n",
       "      <td>0</td>\n",
       "      <td>0</td>\n",
       "      <td>0</td>\n",
       "      <td>0</td>\n",
       "      <td>0</td>\n",
       "      <td>0</td>\n",
       "      <td>0</td>\n",
       "      <td>0</td>\n",
       "      <td>0</td>\n",
       "      <td>0</td>\n",
       "      <td>0</td>\n",
       "    </tr>\n",
       "  </tbody>\n",
       "</table>\n",
       "</div>"
      ],
      "text/plain": [
       "   colleague discovered  colleague learned  colleague read  discovered news  \\\n",
       "0                     0                  0               0                0   \n",
       "1                     0                  0               0                0   \n",
       "2                     0                  0               0                0   \n",
       "3                     0                  0               0                0   \n",
       "4                     0                  0               0                0   \n",
       "\n",
       "   discussion board  friend learned  friend read  internet forum  \\\n",
       "0                 0               0            0               0   \n",
       "1                 0               0            1               0   \n",
       "2                 0               0            1               0   \n",
       "3                 0               0            0               0   \n",
       "4                 0               0            0               0   \n",
       "\n",
       "   learned media  media claim  news claim  point view  read media  \\\n",
       "0              0            0           0           0           0   \n",
       "1              0            0           0           0           0   \n",
       "2              0            0           0           0           0   \n",
       "3              0            0           0           0           0   \n",
       "4              0            0           0           0           0   \n",
       "\n",
       "   social media  willing wager  \n",
       "0             0              0  \n",
       "1             0              0  \n",
       "2             0              0  \n",
       "3             0              0  \n",
       "4             0              0  "
      ]
     },
     "execution_count": 22,
     "metadata": {},
     "output_type": "execute_result"
    }
   ],
   "source": [
    "count_vec = CountVectorizer(ngram_range = (2,3),\n",
    "                           max_features = 15,\n",
    "                           stop_words='english')\n",
    "count_vec\n",
    "\n",
    "count_data = count_vec.fit_transform(x_train['video_transcription_text']).toarray()\n",
    "count_data\n",
    "\n",
    "count_df = pd.DataFrame(data=count_data, columns = count_vec.get_feature_names_out())\n",
    "count_df.head()"
   ]
  },
  {
   "cell_type": "code",
   "execution_count": 23,
   "metadata": {},
   "outputs": [
    {
     "data": {
      "text/html": [
       "<div>\n",
       "<style scoped>\n",
       "    .dataframe tbody tr th:only-of-type {\n",
       "        vertical-align: middle;\n",
       "    }\n",
       "\n",
       "    .dataframe tbody tr th {\n",
       "        vertical-align: top;\n",
       "    }\n",
       "\n",
       "    .dataframe thead th {\n",
       "        text-align: right;\n",
       "    }\n",
       "</style>\n",
       "<table border=\"1\" class=\"dataframe\">\n",
       "  <thead>\n",
       "    <tr style=\"text-align: right;\">\n",
       "      <th></th>\n",
       "      <th>video_duration_sec</th>\n",
       "      <th>video_view_count</th>\n",
       "      <th>video_like_count</th>\n",
       "      <th>video_share_count</th>\n",
       "      <th>video_download_count</th>\n",
       "      <th>video_comment_count</th>\n",
       "      <th>text_length</th>\n",
       "      <th>verified_status_verified</th>\n",
       "      <th>author_ban_status_banned</th>\n",
       "      <th>author_ban_status_under review</th>\n",
       "      <th>...</th>\n",
       "      <th>friend learned</th>\n",
       "      <th>friend read</th>\n",
       "      <th>internet forum</th>\n",
       "      <th>learned media</th>\n",
       "      <th>media claim</th>\n",
       "      <th>news claim</th>\n",
       "      <th>point view</th>\n",
       "      <th>read media</th>\n",
       "      <th>social media</th>\n",
       "      <th>willing wager</th>\n",
       "    </tr>\n",
       "  </thead>\n",
       "  <tbody>\n",
       "    <tr>\n",
       "      <th>0</th>\n",
       "      <td>51</td>\n",
       "      <td>2487.0</td>\n",
       "      <td>310.0</td>\n",
       "      <td>20.0</td>\n",
       "      <td>1.0</td>\n",
       "      <td>0.0</td>\n",
       "      <td>134</td>\n",
       "      <td>False</td>\n",
       "      <td>False</td>\n",
       "      <td>False</td>\n",
       "      <td>...</td>\n",
       "      <td>0</td>\n",
       "      <td>0</td>\n",
       "      <td>0</td>\n",
       "      <td>0</td>\n",
       "      <td>0</td>\n",
       "      <td>0</td>\n",
       "      <td>0</td>\n",
       "      <td>0</td>\n",
       "      <td>0</td>\n",
       "      <td>0</td>\n",
       "    </tr>\n",
       "    <tr>\n",
       "      <th>1</th>\n",
       "      <td>43</td>\n",
       "      <td>118512.0</td>\n",
       "      <td>3543.0</td>\n",
       "      <td>374.0</td>\n",
       "      <td>70.0</td>\n",
       "      <td>29.0</td>\n",
       "      <td>97</td>\n",
       "      <td>False</td>\n",
       "      <td>True</td>\n",
       "      <td>False</td>\n",
       "      <td>...</td>\n",
       "      <td>0</td>\n",
       "      <td>1</td>\n",
       "      <td>0</td>\n",
       "      <td>0</td>\n",
       "      <td>0</td>\n",
       "      <td>0</td>\n",
       "      <td>0</td>\n",
       "      <td>0</td>\n",
       "      <td>0</td>\n",
       "      <td>0</td>\n",
       "    </tr>\n",
       "    <tr>\n",
       "      <th>2</th>\n",
       "      <td>22</td>\n",
       "      <td>105902.0</td>\n",
       "      <td>1885.0</td>\n",
       "      <td>229.0</td>\n",
       "      <td>39.0</td>\n",
       "      <td>9.0</td>\n",
       "      <td>76</td>\n",
       "      <td>False</td>\n",
       "      <td>False</td>\n",
       "      <td>True</td>\n",
       "      <td>...</td>\n",
       "      <td>0</td>\n",
       "      <td>1</td>\n",
       "      <td>0</td>\n",
       "      <td>0</td>\n",
       "      <td>0</td>\n",
       "      <td>0</td>\n",
       "      <td>0</td>\n",
       "      <td>0</td>\n",
       "      <td>0</td>\n",
       "      <td>0</td>\n",
       "    </tr>\n",
       "    <tr>\n",
       "      <th>3</th>\n",
       "      <td>17</td>\n",
       "      <td>9245.0</td>\n",
       "      <td>1670.0</td>\n",
       "      <td>440.0</td>\n",
       "      <td>13.0</td>\n",
       "      <td>4.0</td>\n",
       "      <td>58</td>\n",
       "      <td>False</td>\n",
       "      <td>False</td>\n",
       "      <td>False</td>\n",
       "      <td>...</td>\n",
       "      <td>0</td>\n",
       "      <td>0</td>\n",
       "      <td>0</td>\n",
       "      <td>0</td>\n",
       "      <td>0</td>\n",
       "      <td>0</td>\n",
       "      <td>0</td>\n",
       "      <td>0</td>\n",
       "      <td>0</td>\n",
       "      <td>0</td>\n",
       "    </tr>\n",
       "    <tr>\n",
       "      <th>4</th>\n",
       "      <td>18</td>\n",
       "      <td>3791.0</td>\n",
       "      <td>660.0</td>\n",
       "      <td>63.0</td>\n",
       "      <td>9.0</td>\n",
       "      <td>1.0</td>\n",
       "      <td>57</td>\n",
       "      <td>False</td>\n",
       "      <td>False</td>\n",
       "      <td>False</td>\n",
       "      <td>...</td>\n",
       "      <td>0</td>\n",
       "      <td>0</td>\n",
       "      <td>0</td>\n",
       "      <td>0</td>\n",
       "      <td>0</td>\n",
       "      <td>0</td>\n",
       "      <td>0</td>\n",
       "      <td>0</td>\n",
       "      <td>0</td>\n",
       "      <td>0</td>\n",
       "    </tr>\n",
       "  </tbody>\n",
       "</table>\n",
       "<p>5 rows × 25 columns</p>\n",
       "</div>"
      ],
      "text/plain": [
       "   video_duration_sec  video_view_count  video_like_count  video_share_count  \\\n",
       "0                  51            2487.0             310.0               20.0   \n",
       "1                  43          118512.0            3543.0              374.0   \n",
       "2                  22          105902.0            1885.0              229.0   \n",
       "3                  17            9245.0            1670.0              440.0   \n",
       "4                  18            3791.0             660.0               63.0   \n",
       "\n",
       "   video_download_count  video_comment_count  text_length  \\\n",
       "0                   1.0                  0.0          134   \n",
       "1                  70.0                 29.0           97   \n",
       "2                  39.0                  9.0           76   \n",
       "3                  13.0                  4.0           58   \n",
       "4                   9.0                  1.0           57   \n",
       "\n",
       "   verified_status_verified  author_ban_status_banned  \\\n",
       "0                     False                     False   \n",
       "1                     False                      True   \n",
       "2                     False                     False   \n",
       "3                     False                     False   \n",
       "4                     False                     False   \n",
       "\n",
       "   author_ban_status_under review  ...  friend learned  friend read  \\\n",
       "0                           False  ...               0            0   \n",
       "1                           False  ...               0            1   \n",
       "2                            True  ...               0            1   \n",
       "3                           False  ...               0            0   \n",
       "4                           False  ...               0            0   \n",
       "\n",
       "   internet forum  learned media  media claim  news claim  point view  \\\n",
       "0               0              0            0           0           0   \n",
       "1               0              0            0           0           0   \n",
       "2               0              0            0           0           0   \n",
       "3               0              0            0           0           0   \n",
       "4               0              0            0           0           0   \n",
       "\n",
       "   read media  social media  willing wager  \n",
       "0           0             0              0  \n",
       "1           0             0              0  \n",
       "2           0             0              0  \n",
       "3           0             0              0  \n",
       "4           0             0              0  \n",
       "\n",
       "[5 rows x 25 columns]"
      ]
     },
     "execution_count": 23,
     "metadata": {},
     "output_type": "execute_result"
    }
   ],
   "source": [
    "x_train_final = pd.concat([x_train.drop(columns=['video_transcription_text']).reset_index(drop=True), count_df], axis=1)\n",
    "x_train_final.head()"
   ]
  },
  {
   "cell_type": "markdown",
   "metadata": {},
   "source": [
    "concatenate x_train and count_df to form the final dataframe for training data\n",
    "x_train.drop(columns=['video_transcription_text']) drop the original raw text column\n",
    "then combine with the count_df to get the new dtf"
   ]
  },
  {
   "cell_type": "code",
   "execution_count": 24,
   "metadata": {},
   "outputs": [
    {
     "data": {
      "text/html": [
       "<div>\n",
       "<style scoped>\n",
       "    .dataframe tbody tr th:only-of-type {\n",
       "        vertical-align: middle;\n",
       "    }\n",
       "\n",
       "    .dataframe tbody tr th {\n",
       "        vertical-align: top;\n",
       "    }\n",
       "\n",
       "    .dataframe thead th {\n",
       "        text-align: right;\n",
       "    }\n",
       "</style>\n",
       "<table border=\"1\" class=\"dataframe\">\n",
       "  <thead>\n",
       "    <tr style=\"text-align: right;\">\n",
       "      <th></th>\n",
       "      <th>video_duration_sec</th>\n",
       "      <th>video_view_count</th>\n",
       "      <th>video_like_count</th>\n",
       "      <th>video_share_count</th>\n",
       "      <th>video_download_count</th>\n",
       "      <th>video_comment_count</th>\n",
       "      <th>text_length</th>\n",
       "      <th>verified_status_verified</th>\n",
       "      <th>author_ban_status_banned</th>\n",
       "      <th>author_ban_status_under review</th>\n",
       "      <th>...</th>\n",
       "      <th>friend learned</th>\n",
       "      <th>friend read</th>\n",
       "      <th>internet forum</th>\n",
       "      <th>learned media</th>\n",
       "      <th>media claim</th>\n",
       "      <th>news claim</th>\n",
       "      <th>point view</th>\n",
       "      <th>read media</th>\n",
       "      <th>social media</th>\n",
       "      <th>willing wager</th>\n",
       "    </tr>\n",
       "  </thead>\n",
       "  <tbody>\n",
       "    <tr>\n",
       "      <th>0</th>\n",
       "      <td>11</td>\n",
       "      <td>578891.0</td>\n",
       "      <td>379596.0</td>\n",
       "      <td>14612.0</td>\n",
       "      <td>6591.0</td>\n",
       "      <td>44.0</td>\n",
       "      <td>72</td>\n",
       "      <td>False</td>\n",
       "      <td>False</td>\n",
       "      <td>True</td>\n",
       "      <td>...</td>\n",
       "      <td>0</td>\n",
       "      <td>0</td>\n",
       "      <td>0</td>\n",
       "      <td>0</td>\n",
       "      <td>0</td>\n",
       "      <td>0</td>\n",
       "      <td>0</td>\n",
       "      <td>1</td>\n",
       "      <td>0</td>\n",
       "      <td>0</td>\n",
       "    </tr>\n",
       "    <tr>\n",
       "      <th>1</th>\n",
       "      <td>24</td>\n",
       "      <td>6255.0</td>\n",
       "      <td>1709.0</td>\n",
       "      <td>311.0</td>\n",
       "      <td>13.0</td>\n",
       "      <td>1.0</td>\n",
       "      <td>96</td>\n",
       "      <td>False</td>\n",
       "      <td>False</td>\n",
       "      <td>False</td>\n",
       "      <td>...</td>\n",
       "      <td>0</td>\n",
       "      <td>0</td>\n",
       "      <td>0</td>\n",
       "      <td>0</td>\n",
       "      <td>0</td>\n",
       "      <td>0</td>\n",
       "      <td>0</td>\n",
       "      <td>0</td>\n",
       "      <td>0</td>\n",
       "      <td>0</td>\n",
       "    </tr>\n",
       "    <tr>\n",
       "      <th>2</th>\n",
       "      <td>35</td>\n",
       "      <td>410356.0</td>\n",
       "      <td>249714.0</td>\n",
       "      <td>26235.0</td>\n",
       "      <td>2060.0</td>\n",
       "      <td>1252.0</td>\n",
       "      <td>88</td>\n",
       "      <td>False</td>\n",
       "      <td>False</td>\n",
       "      <td>False</td>\n",
       "      <td>...</td>\n",
       "      <td>0</td>\n",
       "      <td>1</td>\n",
       "      <td>0</td>\n",
       "      <td>0</td>\n",
       "      <td>0</td>\n",
       "      <td>0</td>\n",
       "      <td>0</td>\n",
       "      <td>1</td>\n",
       "      <td>0</td>\n",
       "      <td>0</td>\n",
       "    </tr>\n",
       "    <tr>\n",
       "      <th>3</th>\n",
       "      <td>58</td>\n",
       "      <td>406911.0</td>\n",
       "      <td>25986.0</td>\n",
       "      <td>1230.0</td>\n",
       "      <td>564.0</td>\n",
       "      <td>248.0</td>\n",
       "      <td>83</td>\n",
       "      <td>False</td>\n",
       "      <td>False</td>\n",
       "      <td>False</td>\n",
       "      <td>...</td>\n",
       "      <td>0</td>\n",
       "      <td>0</td>\n",
       "      <td>0</td>\n",
       "      <td>0</td>\n",
       "      <td>0</td>\n",
       "      <td>0</td>\n",
       "      <td>0</td>\n",
       "      <td>0</td>\n",
       "      <td>0</td>\n",
       "      <td>0</td>\n",
       "    </tr>\n",
       "    <tr>\n",
       "      <th>4</th>\n",
       "      <td>47</td>\n",
       "      <td>972573.0</td>\n",
       "      <td>138167.0</td>\n",
       "      <td>25320.0</td>\n",
       "      <td>3331.0</td>\n",
       "      <td>968.0</td>\n",
       "      <td>104</td>\n",
       "      <td>False</td>\n",
       "      <td>False</td>\n",
       "      <td>True</td>\n",
       "      <td>...</td>\n",
       "      <td>0</td>\n",
       "      <td>0</td>\n",
       "      <td>0</td>\n",
       "      <td>0</td>\n",
       "      <td>0</td>\n",
       "      <td>0</td>\n",
       "      <td>0</td>\n",
       "      <td>1</td>\n",
       "      <td>0</td>\n",
       "      <td>0</td>\n",
       "    </tr>\n",
       "  </tbody>\n",
       "</table>\n",
       "<p>5 rows × 25 columns</p>\n",
       "</div>"
      ],
      "text/plain": [
       "   video_duration_sec  video_view_count  video_like_count  video_share_count  \\\n",
       "0                  11          578891.0          379596.0            14612.0   \n",
       "1                  24            6255.0            1709.0              311.0   \n",
       "2                  35          410356.0          249714.0            26235.0   \n",
       "3                  58          406911.0           25986.0             1230.0   \n",
       "4                  47          972573.0          138167.0            25320.0   \n",
       "\n",
       "   video_download_count  video_comment_count  text_length  \\\n",
       "0                6591.0                 44.0           72   \n",
       "1                  13.0                  1.0           96   \n",
       "2                2060.0               1252.0           88   \n",
       "3                 564.0                248.0           83   \n",
       "4                3331.0                968.0          104   \n",
       "\n",
       "   verified_status_verified  author_ban_status_banned  \\\n",
       "0                     False                     False   \n",
       "1                     False                     False   \n",
       "2                     False                     False   \n",
       "3                     False                     False   \n",
       "4                     False                     False   \n",
       "\n",
       "   author_ban_status_under review  ...  friend learned  friend read  \\\n",
       "0                            True  ...               0            0   \n",
       "1                           False  ...               0            0   \n",
       "2                           False  ...               0            1   \n",
       "3                           False  ...               0            0   \n",
       "4                            True  ...               0            0   \n",
       "\n",
       "   internet forum  learned media  media claim  news claim  point view  \\\n",
       "0               0              0            0           0           0   \n",
       "1               0              0            0           0           0   \n",
       "2               0              0            0           0           0   \n",
       "3               0              0            0           0           0   \n",
       "4               0              0            0           0           0   \n",
       "\n",
       "   read media  social media  willing wager  \n",
       "0           1             0              0  \n",
       "1           0             0              0  \n",
       "2           1             0              0  \n",
       "3           0             0              0  \n",
       "4           1             0              0  \n",
       "\n",
       "[5 rows x 25 columns]"
      ]
     },
     "execution_count": 24,
     "metadata": {},
     "output_type": "execute_result"
    }
   ],
   "source": [
    "validation_count_data = count_vec.transform(x_val['video_transcription_text']).toarray()\n",
    "validation_count_data\n",
    "validation_count_df = pd.DataFrame(data=validation_count_data, columns = count_vec.get_feature_names_out())\n",
    "validation_count_df.head()\n",
    "x_val_final = pd.concat([x_val.drop(columns=['video_transcription_text']).reset_index(drop=True), validation_count_df], axis=1)\n",
    "x_val_final.head()"
   ]
  },
  {
   "cell_type": "raw",
   "metadata": {},
   "source": [
    "repeat the same steps for validation data and test data to make sure that data structure stay consistent across all dataframe\n",
    "only transform without fitting on test data and validation data because we only want to apply what it learn from the train data on the 2 dtf without introducing more vocab into the learning."
   ]
  },
  {
   "cell_type": "code",
   "execution_count": 25,
   "metadata": {},
   "outputs": [
    {
     "data": {
      "text/html": [
       "<div>\n",
       "<style scoped>\n",
       "    .dataframe tbody tr th:only-of-type {\n",
       "        vertical-align: middle;\n",
       "    }\n",
       "\n",
       "    .dataframe tbody tr th {\n",
       "        vertical-align: top;\n",
       "    }\n",
       "\n",
       "    .dataframe thead th {\n",
       "        text-align: right;\n",
       "    }\n",
       "</style>\n",
       "<table border=\"1\" class=\"dataframe\">\n",
       "  <thead>\n",
       "    <tr style=\"text-align: right;\">\n",
       "      <th></th>\n",
       "      <th>video_duration_sec</th>\n",
       "      <th>video_view_count</th>\n",
       "      <th>video_like_count</th>\n",
       "      <th>video_share_count</th>\n",
       "      <th>video_download_count</th>\n",
       "      <th>video_comment_count</th>\n",
       "      <th>text_length</th>\n",
       "      <th>verified_status_verified</th>\n",
       "      <th>author_ban_status_banned</th>\n",
       "      <th>author_ban_status_under review</th>\n",
       "      <th>...</th>\n",
       "      <th>friend learned</th>\n",
       "      <th>friend read</th>\n",
       "      <th>internet forum</th>\n",
       "      <th>learned media</th>\n",
       "      <th>media claim</th>\n",
       "      <th>news claim</th>\n",
       "      <th>point view</th>\n",
       "      <th>read media</th>\n",
       "      <th>social media</th>\n",
       "      <th>willing wager</th>\n",
       "    </tr>\n",
       "  </thead>\n",
       "  <tbody>\n",
       "    <tr>\n",
       "      <th>0</th>\n",
       "      <td>54</td>\n",
       "      <td>692084.0</td>\n",
       "      <td>135956.0</td>\n",
       "      <td>16591.0</td>\n",
       "      <td>622.0</td>\n",
       "      <td>312.0</td>\n",
       "      <td>107</td>\n",
       "      <td>False</td>\n",
       "      <td>False</td>\n",
       "      <td>False</td>\n",
       "      <td>...</td>\n",
       "      <td>0</td>\n",
       "      <td>0</td>\n",
       "      <td>0</td>\n",
       "      <td>1</td>\n",
       "      <td>1</td>\n",
       "      <td>0</td>\n",
       "      <td>0</td>\n",
       "      <td>0</td>\n",
       "      <td>0</td>\n",
       "      <td>0</td>\n",
       "    </tr>\n",
       "    <tr>\n",
       "      <th>1</th>\n",
       "      <td>37</td>\n",
       "      <td>5164.0</td>\n",
       "      <td>1858.0</td>\n",
       "      <td>36.0</td>\n",
       "      <td>17.0</td>\n",
       "      <td>1.0</td>\n",
       "      <td>69</td>\n",
       "      <td>True</td>\n",
       "      <td>False</td>\n",
       "      <td>True</td>\n",
       "      <td>...</td>\n",
       "      <td>0</td>\n",
       "      <td>0</td>\n",
       "      <td>0</td>\n",
       "      <td>0</td>\n",
       "      <td>0</td>\n",
       "      <td>0</td>\n",
       "      <td>0</td>\n",
       "      <td>0</td>\n",
       "      <td>0</td>\n",
       "      <td>0</td>\n",
       "    </tr>\n",
       "    <tr>\n",
       "      <th>2</th>\n",
       "      <td>39</td>\n",
       "      <td>801951.0</td>\n",
       "      <td>344163.0</td>\n",
       "      <td>57608.0</td>\n",
       "      <td>8578.0</td>\n",
       "      <td>2942.0</td>\n",
       "      <td>90</td>\n",
       "      <td>False</td>\n",
       "      <td>False</td>\n",
       "      <td>False</td>\n",
       "      <td>...</td>\n",
       "      <td>0</td>\n",
       "      <td>0</td>\n",
       "      <td>0</td>\n",
       "      <td>0</td>\n",
       "      <td>0</td>\n",
       "      <td>0</td>\n",
       "      <td>0</td>\n",
       "      <td>0</td>\n",
       "      <td>0</td>\n",
       "      <td>0</td>\n",
       "    </tr>\n",
       "    <tr>\n",
       "      <th>3</th>\n",
       "      <td>44</td>\n",
       "      <td>6429.0</td>\n",
       "      <td>2314.0</td>\n",
       "      <td>847.0</td>\n",
       "      <td>17.0</td>\n",
       "      <td>5.0</td>\n",
       "      <td>76</td>\n",
       "      <td>False</td>\n",
       "      <td>False</td>\n",
       "      <td>False</td>\n",
       "      <td>...</td>\n",
       "      <td>0</td>\n",
       "      <td>0</td>\n",
       "      <td>0</td>\n",
       "      <td>0</td>\n",
       "      <td>0</td>\n",
       "      <td>0</td>\n",
       "      <td>0</td>\n",
       "      <td>0</td>\n",
       "      <td>0</td>\n",
       "      <td>0</td>\n",
       "    </tr>\n",
       "    <tr>\n",
       "      <th>4</th>\n",
       "      <td>26</td>\n",
       "      <td>555780.0</td>\n",
       "      <td>106863.0</td>\n",
       "      <td>15348.0</td>\n",
       "      <td>252.0</td>\n",
       "      <td>91.0</td>\n",
       "      <td>72</td>\n",
       "      <td>False</td>\n",
       "      <td>False</td>\n",
       "      <td>False</td>\n",
       "      <td>...</td>\n",
       "      <td>0</td>\n",
       "      <td>0</td>\n",
       "      <td>0</td>\n",
       "      <td>0</td>\n",
       "      <td>0</td>\n",
       "      <td>0</td>\n",
       "      <td>0</td>\n",
       "      <td>0</td>\n",
       "      <td>0</td>\n",
       "      <td>0</td>\n",
       "    </tr>\n",
       "  </tbody>\n",
       "</table>\n",
       "<p>5 rows × 25 columns</p>\n",
       "</div>"
      ],
      "text/plain": [
       "   video_duration_sec  video_view_count  video_like_count  video_share_count  \\\n",
       "0                  54          692084.0          135956.0            16591.0   \n",
       "1                  37            5164.0            1858.0               36.0   \n",
       "2                  39          801951.0          344163.0            57608.0   \n",
       "3                  44            6429.0            2314.0              847.0   \n",
       "4                  26          555780.0          106863.0            15348.0   \n",
       "\n",
       "   video_download_count  video_comment_count  text_length  \\\n",
       "0                 622.0                312.0          107   \n",
       "1                  17.0                  1.0           69   \n",
       "2                8578.0               2942.0           90   \n",
       "3                  17.0                  5.0           76   \n",
       "4                 252.0                 91.0           72   \n",
       "\n",
       "   verified_status_verified  author_ban_status_banned  \\\n",
       "0                     False                     False   \n",
       "1                      True                     False   \n",
       "2                     False                     False   \n",
       "3                     False                     False   \n",
       "4                     False                     False   \n",
       "\n",
       "   author_ban_status_under review  ...  friend learned  friend read  \\\n",
       "0                           False  ...               0            0   \n",
       "1                            True  ...               0            0   \n",
       "2                           False  ...               0            0   \n",
       "3                           False  ...               0            0   \n",
       "4                           False  ...               0            0   \n",
       "\n",
       "   internet forum  learned media  media claim  news claim  point view  \\\n",
       "0               0              1            1           0           0   \n",
       "1               0              0            0           0           0   \n",
       "2               0              0            0           0           0   \n",
       "3               0              0            0           0           0   \n",
       "4               0              0            0           0           0   \n",
       "\n",
       "   read media  social media  willing wager  \n",
       "0           0             0              0  \n",
       "1           0             0              0  \n",
       "2           0             0              0  \n",
       "3           0             0              0  \n",
       "4           0             0              0  \n",
       "\n",
       "[5 rows x 25 columns]"
      ]
     },
     "execution_count": 25,
     "metadata": {},
     "output_type": "execute_result"
    }
   ],
   "source": [
    "test_count_data = count_vec.transform(x_test['video_transcription_text']).toarray()\n",
    "test_count_df = pd.DataFrame(data = test_count_data, columns = count_vec.get_feature_names_out())\n",
    "x_test_final = pd.concat([x_test.drop(columns=['video_transcription_text']).reset_index(drop=True), test_count_df], axis=1)\n",
    "x_test_final.head()"
   ]
  },
  {
   "cell_type": "code",
   "execution_count": 26,
   "metadata": {},
   "outputs": [],
   "source": [
    "# instantiate the random forest classifier\n",
    "rf = RandomForestClassifier(random_state = 0)\n",
    "#create a dictionary of hyperparameters to tune\n",
    "cv_params = {'max_depth': [5, 7, None],\n",
    "            'max_features': [0.3,0.6],\n",
    "            'max_samples':[0.7],\n",
    "            'min_samples_leaf': [1,2],\n",
    "            'min_samples_split': [2,3],\n",
    "            'n_estimators': [75,100,200],\n",
    "            }\n",
    "#define a list of scoring metrics to capture\n",
    "scoring = ['accuracy', 'precision', 'recall', 'f1']\n",
    "# Instantiate the GridSearchCV object\n",
    "rf_cv = GridSearchCV(rf, cv_params, scoring = scoring, cv=5, refit='recall')"
   ]
  },
  {
   "cell_type": "code",
   "execution_count": 27,
   "metadata": {},
   "outputs": [
    {
     "name": "stdout",
     "output_type": "stream",
     "text": [
      "CPU times: user 6min 42s, sys: 710 ms, total: 6min 42s\n",
      "Wall time: 6min 42s\n"
     ]
    },
    {
     "data": {
      "text/html": [
       "<style>#sk-container-id-1 {color: black;}#sk-container-id-1 pre{padding: 0;}#sk-container-id-1 div.sk-toggleable {background-color: white;}#sk-container-id-1 label.sk-toggleable__label {cursor: pointer;display: block;width: 100%;margin-bottom: 0;padding: 0.3em;box-sizing: border-box;text-align: center;}#sk-container-id-1 label.sk-toggleable__label-arrow:before {content: \"▸\";float: left;margin-right: 0.25em;color: #696969;}#sk-container-id-1 label.sk-toggleable__label-arrow:hover:before {color: black;}#sk-container-id-1 div.sk-estimator:hover label.sk-toggleable__label-arrow:before {color: black;}#sk-container-id-1 div.sk-toggleable__content {max-height: 0;max-width: 0;overflow: hidden;text-align: left;background-color: #f0f8ff;}#sk-container-id-1 div.sk-toggleable__content pre {margin: 0.2em;color: black;border-radius: 0.25em;background-color: #f0f8ff;}#sk-container-id-1 input.sk-toggleable__control:checked~div.sk-toggleable__content {max-height: 200px;max-width: 100%;overflow: auto;}#sk-container-id-1 input.sk-toggleable__control:checked~label.sk-toggleable__label-arrow:before {content: \"▾\";}#sk-container-id-1 div.sk-estimator input.sk-toggleable__control:checked~label.sk-toggleable__label {background-color: #d4ebff;}#sk-container-id-1 div.sk-label input.sk-toggleable__control:checked~label.sk-toggleable__label {background-color: #d4ebff;}#sk-container-id-1 input.sk-hidden--visually {border: 0;clip: rect(1px 1px 1px 1px);clip: rect(1px, 1px, 1px, 1px);height: 1px;margin: -1px;overflow: hidden;padding: 0;position: absolute;width: 1px;}#sk-container-id-1 div.sk-estimator {font-family: monospace;background-color: #f0f8ff;border: 1px dotted black;border-radius: 0.25em;box-sizing: border-box;margin-bottom: 0.5em;}#sk-container-id-1 div.sk-estimator:hover {background-color: #d4ebff;}#sk-container-id-1 div.sk-parallel-item::after {content: \"\";width: 100%;border-bottom: 1px solid gray;flex-grow: 1;}#sk-container-id-1 div.sk-label:hover label.sk-toggleable__label {background-color: #d4ebff;}#sk-container-id-1 div.sk-serial::before {content: \"\";position: absolute;border-left: 1px solid gray;box-sizing: border-box;top: 0;bottom: 0;left: 50%;z-index: 0;}#sk-container-id-1 div.sk-serial {display: flex;flex-direction: column;align-items: center;background-color: white;padding-right: 0.2em;padding-left: 0.2em;position: relative;}#sk-container-id-1 div.sk-item {position: relative;z-index: 1;}#sk-container-id-1 div.sk-parallel {display: flex;align-items: stretch;justify-content: center;background-color: white;position: relative;}#sk-container-id-1 div.sk-item::before, #sk-container-id-1 div.sk-parallel-item::before {content: \"\";position: absolute;border-left: 1px solid gray;box-sizing: border-box;top: 0;bottom: 0;left: 50%;z-index: -1;}#sk-container-id-1 div.sk-parallel-item {display: flex;flex-direction: column;z-index: 1;position: relative;background-color: white;}#sk-container-id-1 div.sk-parallel-item:first-child::after {align-self: flex-end;width: 50%;}#sk-container-id-1 div.sk-parallel-item:last-child::after {align-self: flex-start;width: 50%;}#sk-container-id-1 div.sk-parallel-item:only-child::after {width: 0;}#sk-container-id-1 div.sk-dashed-wrapped {border: 1px dashed gray;margin: 0 0.4em 0.5em 0.4em;box-sizing: border-box;padding-bottom: 0.4em;background-color: white;}#sk-container-id-1 div.sk-label label {font-family: monospace;font-weight: bold;display: inline-block;line-height: 1.2em;}#sk-container-id-1 div.sk-label-container {text-align: center;}#sk-container-id-1 div.sk-container {/* jupyter's `normalize.less` sets `[hidden] { display: none; }` but bootstrap.min.css set `[hidden] { display: none !important; }` so we also need the `!important` here to be able to override the default hidden behavior on the sphinx rendered scikit-learn.org. See: https://github.com/scikit-learn/scikit-learn/issues/21755 */display: inline-block !important;position: relative;}#sk-container-id-1 div.sk-text-repr-fallback {display: none;}</style><div id=\"sk-container-id-1\" class=\"sk-top-container\"><div class=\"sk-text-repr-fallback\"><pre>GridSearchCV(cv=5, estimator=RandomForestClassifier(random_state=0),\n",
       "             param_grid={&#x27;max_depth&#x27;: [5, 7, None], &#x27;max_features&#x27;: [0.3, 0.6],\n",
       "                         &#x27;max_samples&#x27;: [0.7], &#x27;min_samples_leaf&#x27;: [1, 2],\n",
       "                         &#x27;min_samples_split&#x27;: [2, 3],\n",
       "                         &#x27;n_estimators&#x27;: [75, 100, 200]},\n",
       "             refit=&#x27;recall&#x27;, scoring=[&#x27;accuracy&#x27;, &#x27;precision&#x27;, &#x27;recall&#x27;, &#x27;f1&#x27;])</pre><b>In a Jupyter environment, please rerun this cell to show the HTML representation or trust the notebook. <br />On GitHub, the HTML representation is unable to render, please try loading this page with nbviewer.org.</b></div><div class=\"sk-container\" hidden><div class=\"sk-item sk-dashed-wrapped\"><div class=\"sk-label-container\"><div class=\"sk-label sk-toggleable\"><input class=\"sk-toggleable__control sk-hidden--visually\" id=\"sk-estimator-id-1\" type=\"checkbox\" ><label for=\"sk-estimator-id-1\" class=\"sk-toggleable__label sk-toggleable__label-arrow\">GridSearchCV</label><div class=\"sk-toggleable__content\"><pre>GridSearchCV(cv=5, estimator=RandomForestClassifier(random_state=0),\n",
       "             param_grid={&#x27;max_depth&#x27;: [5, 7, None], &#x27;max_features&#x27;: [0.3, 0.6],\n",
       "                         &#x27;max_samples&#x27;: [0.7], &#x27;min_samples_leaf&#x27;: [1, 2],\n",
       "                         &#x27;min_samples_split&#x27;: [2, 3],\n",
       "                         &#x27;n_estimators&#x27;: [75, 100, 200]},\n",
       "             refit=&#x27;recall&#x27;, scoring=[&#x27;accuracy&#x27;, &#x27;precision&#x27;, &#x27;recall&#x27;, &#x27;f1&#x27;])</pre></div></div></div><div class=\"sk-parallel\"><div class=\"sk-parallel-item\"><div class=\"sk-item\"><div class=\"sk-label-container\"><div class=\"sk-label sk-toggleable\"><input class=\"sk-toggleable__control sk-hidden--visually\" id=\"sk-estimator-id-2\" type=\"checkbox\" ><label for=\"sk-estimator-id-2\" class=\"sk-toggleable__label sk-toggleable__label-arrow\">estimator: RandomForestClassifier</label><div class=\"sk-toggleable__content\"><pre>RandomForestClassifier(random_state=0)</pre></div></div></div><div class=\"sk-serial\"><div class=\"sk-item\"><div class=\"sk-estimator sk-toggleable\"><input class=\"sk-toggleable__control sk-hidden--visually\" id=\"sk-estimator-id-3\" type=\"checkbox\" ><label for=\"sk-estimator-id-3\" class=\"sk-toggleable__label sk-toggleable__label-arrow\">RandomForestClassifier</label><div class=\"sk-toggleable__content\"><pre>RandomForestClassifier(random_state=0)</pre></div></div></div></div></div></div></div></div></div></div>"
      ],
      "text/plain": [
       "GridSearchCV(cv=5, estimator=RandomForestClassifier(random_state=0),\n",
       "             param_grid={'max_depth': [5, 7, None], 'max_features': [0.3, 0.6],\n",
       "                         'max_samples': [0.7], 'min_samples_leaf': [1, 2],\n",
       "                         'min_samples_split': [2, 3],\n",
       "                         'n_estimators': [75, 100, 200]},\n",
       "             refit='recall', scoring=['accuracy', 'precision', 'recall', 'f1'])"
      ]
     },
     "execution_count": 27,
     "metadata": {},
     "output_type": "execute_result"
    }
   ],
   "source": [
    "%%time\n",
    "rf_cv.fit(x_train_final, y_train)"
   ]
  },
  {
   "cell_type": "code",
   "execution_count": 28,
   "metadata": {},
   "outputs": [
    {
     "data": {
      "text/plain": [
       "0.9948228253467271"
      ]
     },
     "execution_count": 28,
     "metadata": {},
     "output_type": "execute_result"
    }
   ],
   "source": [
    "rf_cv.best_score_"
   ]
  },
  {
   "cell_type": "code",
   "execution_count": 29,
   "metadata": {},
   "outputs": [
    {
     "data": {
      "text/plain": [
       "{'max_depth': None,\n",
       " 'max_features': 0.6,\n",
       " 'max_samples': 0.7,\n",
       " 'min_samples_leaf': 1,\n",
       " 'min_samples_split': 2,\n",
       " 'n_estimators': 200}"
      ]
     },
     "execution_count": 29,
     "metadata": {},
     "output_type": "execute_result"
    }
   ],
   "source": [
    "rf_cv.best_params_"
   ]
  },
  {
   "cell_type": "code",
   "execution_count": 30,
   "metadata": {},
   "outputs": [
    {
     "data": {
      "text/plain": [
       "0.9994806638131711"
      ]
     },
     "execution_count": 30,
     "metadata": {},
     "output_type": "execute_result"
    }
   ],
   "source": [
    "# convert rf_cv to dataframe then retrieve the best\n",
    "rf_results_df = pd.DataFrame(rf_cv.cv_results_)\n",
    "rf_results_df['mean_test_precision'][rf_cv.best_index_]"
   ]
  },
  {
   "cell_type": "markdown",
   "metadata": {},
   "source": [
    "GridSearchCV and RandomizedSearchCV use k-fold cross-validation, meaning:\n",
    "The model is trained and tested on k different train-test splits.\n",
    "Each split produces a separate precision score.\n",
    "The mean_test_precision column in rf_results_df contains the average precision score across all validation folds."
   ]
  },
  {
   "cell_type": "markdown",
   "metadata": {},
   "source": [
    "Accuracy is unreliable for imbalanced datasets because:\n",
    "If 95% of the data belongs to one class, a model predicting everything as that class gets 95% accuracy but is useless.\n",
    "Precision measures how many predicted positives were actually correct, making it better for:\n",
    "Detecting rare classes (e.g., fraud detection, spam classification).\n",
    "Reducing false positives, which is important in cases where false alarms are costly (e.g., medical diagnosis, claim verification)."
   ]
  },
  {
   "cell_type": "markdown",
   "metadata": {},
   "source": [
    "rf_cv.best_index_ points to the best hyperparameter combination.\n",
    "mean_test_precision tells us the average precision score across different validation folds for that best model."
   ]
  },
  {
   "cell_type": "code",
   "execution_count": 32,
   "metadata": {},
   "outputs": [],
   "source": [
    "#Instantiate XGBoost Classifier\n",
    "xgb = XGBClassifier(objective = 'binary:logistic', random_state = 0)\n",
    "cv_params = {'max_depth': [4,8,12],\n",
    "            'min_child_weight': [3,5],\n",
    "            'learning_rate': [.01, .1],\n",
    "            'n_estimators': [300, 500]\n",
    "            }\n",
    "scoring = ['accuracy', 'precision', 'recall', 'f1']\n",
    "\n",
    "xgb_cv = GridSearchCV(xgb, cv_params, scoring=scoring, cv=5, refit='recall')"
   ]
  },
  {
   "cell_type": "code",
   "execution_count": 33,
   "metadata": {},
   "outputs": [
    {
     "name": "stdout",
     "output_type": "stream",
     "text": [
      "CPU times: user 1min 21s, sys: 1.34 s, total: 1min 22s\n",
      "Wall time: 42.8 s\n"
     ]
    },
    {
     "data": {
      "text/html": [
       "<style>#sk-container-id-2 {color: black;}#sk-container-id-2 pre{padding: 0;}#sk-container-id-2 div.sk-toggleable {background-color: white;}#sk-container-id-2 label.sk-toggleable__label {cursor: pointer;display: block;width: 100%;margin-bottom: 0;padding: 0.3em;box-sizing: border-box;text-align: center;}#sk-container-id-2 label.sk-toggleable__label-arrow:before {content: \"▸\";float: left;margin-right: 0.25em;color: #696969;}#sk-container-id-2 label.sk-toggleable__label-arrow:hover:before {color: black;}#sk-container-id-2 div.sk-estimator:hover label.sk-toggleable__label-arrow:before {color: black;}#sk-container-id-2 div.sk-toggleable__content {max-height: 0;max-width: 0;overflow: hidden;text-align: left;background-color: #f0f8ff;}#sk-container-id-2 div.sk-toggleable__content pre {margin: 0.2em;color: black;border-radius: 0.25em;background-color: #f0f8ff;}#sk-container-id-2 input.sk-toggleable__control:checked~div.sk-toggleable__content {max-height: 200px;max-width: 100%;overflow: auto;}#sk-container-id-2 input.sk-toggleable__control:checked~label.sk-toggleable__label-arrow:before {content: \"▾\";}#sk-container-id-2 div.sk-estimator input.sk-toggleable__control:checked~label.sk-toggleable__label {background-color: #d4ebff;}#sk-container-id-2 div.sk-label input.sk-toggleable__control:checked~label.sk-toggleable__label {background-color: #d4ebff;}#sk-container-id-2 input.sk-hidden--visually {border: 0;clip: rect(1px 1px 1px 1px);clip: rect(1px, 1px, 1px, 1px);height: 1px;margin: -1px;overflow: hidden;padding: 0;position: absolute;width: 1px;}#sk-container-id-2 div.sk-estimator {font-family: monospace;background-color: #f0f8ff;border: 1px dotted black;border-radius: 0.25em;box-sizing: border-box;margin-bottom: 0.5em;}#sk-container-id-2 div.sk-estimator:hover {background-color: #d4ebff;}#sk-container-id-2 div.sk-parallel-item::after {content: \"\";width: 100%;border-bottom: 1px solid gray;flex-grow: 1;}#sk-container-id-2 div.sk-label:hover label.sk-toggleable__label {background-color: #d4ebff;}#sk-container-id-2 div.sk-serial::before {content: \"\";position: absolute;border-left: 1px solid gray;box-sizing: border-box;top: 0;bottom: 0;left: 50%;z-index: 0;}#sk-container-id-2 div.sk-serial {display: flex;flex-direction: column;align-items: center;background-color: white;padding-right: 0.2em;padding-left: 0.2em;position: relative;}#sk-container-id-2 div.sk-item {position: relative;z-index: 1;}#sk-container-id-2 div.sk-parallel {display: flex;align-items: stretch;justify-content: center;background-color: white;position: relative;}#sk-container-id-2 div.sk-item::before, #sk-container-id-2 div.sk-parallel-item::before {content: \"\";position: absolute;border-left: 1px solid gray;box-sizing: border-box;top: 0;bottom: 0;left: 50%;z-index: -1;}#sk-container-id-2 div.sk-parallel-item {display: flex;flex-direction: column;z-index: 1;position: relative;background-color: white;}#sk-container-id-2 div.sk-parallel-item:first-child::after {align-self: flex-end;width: 50%;}#sk-container-id-2 div.sk-parallel-item:last-child::after {align-self: flex-start;width: 50%;}#sk-container-id-2 div.sk-parallel-item:only-child::after {width: 0;}#sk-container-id-2 div.sk-dashed-wrapped {border: 1px dashed gray;margin: 0 0.4em 0.5em 0.4em;box-sizing: border-box;padding-bottom: 0.4em;background-color: white;}#sk-container-id-2 div.sk-label label {font-family: monospace;font-weight: bold;display: inline-block;line-height: 1.2em;}#sk-container-id-2 div.sk-label-container {text-align: center;}#sk-container-id-2 div.sk-container {/* jupyter's `normalize.less` sets `[hidden] { display: none; }` but bootstrap.min.css set `[hidden] { display: none !important; }` so we also need the `!important` here to be able to override the default hidden behavior on the sphinx rendered scikit-learn.org. See: https://github.com/scikit-learn/scikit-learn/issues/21755 */display: inline-block !important;position: relative;}#sk-container-id-2 div.sk-text-repr-fallback {display: none;}</style><div id=\"sk-container-id-2\" class=\"sk-top-container\"><div class=\"sk-text-repr-fallback\"><pre>GridSearchCV(cv=5,\n",
       "             estimator=XGBClassifier(base_score=None, booster=None,\n",
       "                                     callbacks=None, colsample_bylevel=None,\n",
       "                                     colsample_bynode=None,\n",
       "                                     colsample_bytree=None, device=None,\n",
       "                                     early_stopping_rounds=None,\n",
       "                                     enable_categorical=False, eval_metric=None,\n",
       "                                     feature_types=None, gamma=None,\n",
       "                                     grow_policy=None, importance_type=None,\n",
       "                                     interaction_constraints=None,\n",
       "                                     learning_rate=None,...\n",
       "                                     max_delta_step=None, max_depth=None,\n",
       "                                     max_leaves=None, min_child_weight=None,\n",
       "                                     missing=nan, monotone_constraints=None,\n",
       "                                     multi_strategy=None, n_estimators=None,\n",
       "                                     n_jobs=None, num_parallel_tree=None,\n",
       "                                     random_state=0, ...),\n",
       "             param_grid={&#x27;learning_rate&#x27;: [0.01, 0.1], &#x27;max_depth&#x27;: [4, 8, 12],\n",
       "                         &#x27;min_child_weight&#x27;: [3, 5],\n",
       "                         &#x27;n_estimators&#x27;: [300, 500]},\n",
       "             refit=&#x27;recall&#x27;, scoring=[&#x27;accuracy&#x27;, &#x27;precision&#x27;, &#x27;recall&#x27;, &#x27;f1&#x27;])</pre><b>In a Jupyter environment, please rerun this cell to show the HTML representation or trust the notebook. <br />On GitHub, the HTML representation is unable to render, please try loading this page with nbviewer.org.</b></div><div class=\"sk-container\" hidden><div class=\"sk-item sk-dashed-wrapped\"><div class=\"sk-label-container\"><div class=\"sk-label sk-toggleable\"><input class=\"sk-toggleable__control sk-hidden--visually\" id=\"sk-estimator-id-4\" type=\"checkbox\" ><label for=\"sk-estimator-id-4\" class=\"sk-toggleable__label sk-toggleable__label-arrow\">GridSearchCV</label><div class=\"sk-toggleable__content\"><pre>GridSearchCV(cv=5,\n",
       "             estimator=XGBClassifier(base_score=None, booster=None,\n",
       "                                     callbacks=None, colsample_bylevel=None,\n",
       "                                     colsample_bynode=None,\n",
       "                                     colsample_bytree=None, device=None,\n",
       "                                     early_stopping_rounds=None,\n",
       "                                     enable_categorical=False, eval_metric=None,\n",
       "                                     feature_types=None, gamma=None,\n",
       "                                     grow_policy=None, importance_type=None,\n",
       "                                     interaction_constraints=None,\n",
       "                                     learning_rate=None,...\n",
       "                                     max_delta_step=None, max_depth=None,\n",
       "                                     max_leaves=None, min_child_weight=None,\n",
       "                                     missing=nan, monotone_constraints=None,\n",
       "                                     multi_strategy=None, n_estimators=None,\n",
       "                                     n_jobs=None, num_parallel_tree=None,\n",
       "                                     random_state=0, ...),\n",
       "             param_grid={&#x27;learning_rate&#x27;: [0.01, 0.1], &#x27;max_depth&#x27;: [4, 8, 12],\n",
       "                         &#x27;min_child_weight&#x27;: [3, 5],\n",
       "                         &#x27;n_estimators&#x27;: [300, 500]},\n",
       "             refit=&#x27;recall&#x27;, scoring=[&#x27;accuracy&#x27;, &#x27;precision&#x27;, &#x27;recall&#x27;, &#x27;f1&#x27;])</pre></div></div></div><div class=\"sk-parallel\"><div class=\"sk-parallel-item\"><div class=\"sk-item\"><div class=\"sk-label-container\"><div class=\"sk-label sk-toggleable\"><input class=\"sk-toggleable__control sk-hidden--visually\" id=\"sk-estimator-id-5\" type=\"checkbox\" ><label for=\"sk-estimator-id-5\" class=\"sk-toggleable__label sk-toggleable__label-arrow\">estimator: XGBClassifier</label><div class=\"sk-toggleable__content\"><pre>XGBClassifier(base_score=None, booster=None, callbacks=None,\n",
       "              colsample_bylevel=None, colsample_bynode=None,\n",
       "              colsample_bytree=None, device=None, early_stopping_rounds=None,\n",
       "              enable_categorical=False, eval_metric=None, feature_types=None,\n",
       "              gamma=None, grow_policy=None, importance_type=None,\n",
       "              interaction_constraints=None, learning_rate=None, max_bin=None,\n",
       "              max_cat_threshold=None, max_cat_to_onehot=None,\n",
       "              max_delta_step=None, max_depth=None, max_leaves=None,\n",
       "              min_child_weight=None, missing=nan, monotone_constraints=None,\n",
       "              multi_strategy=None, n_estimators=None, n_jobs=None,\n",
       "              num_parallel_tree=None, random_state=0, ...)</pre></div></div></div><div class=\"sk-serial\"><div class=\"sk-item\"><div class=\"sk-estimator sk-toggleable\"><input class=\"sk-toggleable__control sk-hidden--visually\" id=\"sk-estimator-id-6\" type=\"checkbox\" ><label for=\"sk-estimator-id-6\" class=\"sk-toggleable__label sk-toggleable__label-arrow\">XGBClassifier</label><div class=\"sk-toggleable__content\"><pre>XGBClassifier(base_score=None, booster=None, callbacks=None,\n",
       "              colsample_bylevel=None, colsample_bynode=None,\n",
       "              colsample_bytree=None, device=None, early_stopping_rounds=None,\n",
       "              enable_categorical=False, eval_metric=None, feature_types=None,\n",
       "              gamma=None, grow_policy=None, importance_type=None,\n",
       "              interaction_constraints=None, learning_rate=None, max_bin=None,\n",
       "              max_cat_threshold=None, max_cat_to_onehot=None,\n",
       "              max_delta_step=None, max_depth=None, max_leaves=None,\n",
       "              min_child_weight=None, missing=nan, monotone_constraints=None,\n",
       "              multi_strategy=None, n_estimators=None, n_jobs=None,\n",
       "              num_parallel_tree=None, random_state=0, ...)</pre></div></div></div></div></div></div></div></div></div></div>"
      ],
      "text/plain": [
       "GridSearchCV(cv=5,\n",
       "             estimator=XGBClassifier(base_score=None, booster=None,\n",
       "                                     callbacks=None, colsample_bylevel=None,\n",
       "                                     colsample_bynode=None,\n",
       "                                     colsample_bytree=None, device=None,\n",
       "                                     early_stopping_rounds=None,\n",
       "                                     enable_categorical=False, eval_metric=None,\n",
       "                                     feature_types=None, gamma=None,\n",
       "                                     grow_policy=None, importance_type=None,\n",
       "                                     interaction_constraints=None,\n",
       "                                     learning_rate=None,...\n",
       "                                     max_delta_step=None, max_depth=None,\n",
       "                                     max_leaves=None, min_child_weight=None,\n",
       "                                     missing=nan, monotone_constraints=None,\n",
       "                                     multi_strategy=None, n_estimators=None,\n",
       "                                     n_jobs=None, num_parallel_tree=None,\n",
       "                                     random_state=0, ...),\n",
       "             param_grid={'learning_rate': [0.01, 0.1], 'max_depth': [4, 8, 12],\n",
       "                         'min_child_weight': [3, 5],\n",
       "                         'n_estimators': [300, 500]},\n",
       "             refit='recall', scoring=['accuracy', 'precision', 'recall', 'f1'])"
      ]
     },
     "execution_count": 33,
     "metadata": {},
     "output_type": "execute_result"
    }
   ],
   "source": [
    "%%time\n",
    "xgb_cv.fit(x_train_final, y_train)"
   ]
  },
  {
   "cell_type": "code",
   "execution_count": 34,
   "metadata": {},
   "outputs": [
    {
     "data": {
      "text/plain": [
       "0.9989540885869099"
      ]
     },
     "execution_count": 34,
     "metadata": {},
     "output_type": "execute_result"
    }
   ],
   "source": [
    "xgb_cv.best_score_\n",
    "xgb_cv.best_params_\n",
    "xgb_results_df = pd.DataFrame(xgb_cv.cv_results_)\n",
    "xgb_results_df['mean_test_precision'][xgb_cv.best_index_]"
   ]
  },
  {
   "cell_type": "code",
   "execution_count": 35,
   "metadata": {},
   "outputs": [
    {
     "data": {
      "text/plain": [
       "array([1, 0, 1, ..., 1, 1, 1])"
      ]
     },
     "execution_count": 35,
     "metadata": {},
     "output_type": "execute_result"
    }
   ],
   "source": [
    "y_pred = rf_cv.best_estimator_.predict(x_val_final)\n",
    "y_pred"
   ]
  },
  {
   "cell_type": "code",
   "execution_count": 36,
   "metadata": {},
   "outputs": [
    {
     "data": {
      "text/plain": [
       "5846     1\n",
       "12058    0\n",
       "2975     1\n",
       "8432     1\n",
       "6863     1\n",
       "        ..\n",
       "6036     1\n",
       "6544     1\n",
       "2781     1\n",
       "6426     1\n",
       "4450     1\n",
       "Name: claim_status, Length: 3817, dtype: int64"
      ]
     },
     "execution_count": 36,
     "metadata": {},
     "output_type": "execute_result"
    }
   ],
   "source": [
    "y_val"
   ]
  },
  {
   "cell_type": "code",
   "execution_count": 37,
   "metadata": {},
   "outputs": [
    {
     "data": {
      "image/png": "[encoded data removed]",
      "text/plain": [
       "<Figure size 640x480 with 2 Axes>"
      ]
     },
     "metadata": {},
     "output_type": "display_data"
    }
   ],
   "source": [
    "#compute values for confusion matrix\n",
    "log_cm = confusion_matrix(y_val, y_pred)\n",
    "log_disp = ConfusionMatrixDisplay(confusion_matrix = log_cm, display_labels= None)\n",
    "log_disp.plot()\n",
    "plt.show()"
   ]
  },
  {
   "cell_type": "code",
   "execution_count": 38,
   "metadata": {},
   "outputs": [
    {
     "name": "stdout",
     "output_type": "stream",
     "text": [
      "              precision    recall  f1-score   support\n",
      "\n",
      "     opinion       1.00      1.00      1.00      1892\n",
      "       claim       1.00      1.00      1.00      1925\n",
      "\n",
      "    accuracy                           1.00      3817\n",
      "   macro avg       1.00      1.00      1.00      3817\n",
      "weighted avg       1.00      1.00      1.00      3817\n",
      "\n"
     ]
    }
   ],
   "source": [
    "target_labels = ['opinion', 'claim']\n",
    "print(classification_report(y_val, y_pred, target_names=target_labels))"
   ]
  },
  {
   "cell_type": "code",
   "execution_count": 39,
   "metadata": {},
   "outputs": [
    {
     "data": {
      "text/plain": [
       "array([1, 0, 1, ..., 1, 1, 1])"
      ]
     },
     "execution_count": 39,
     "metadata": {},
     "output_type": "execute_result"
    }
   ],
   "source": [
    "y_pred = xgb_cv.best_estimator_.predict(x_val_final)\n",
    "y_pred"
   ]
  },
  {
   "cell_type": "code",
   "execution_count": 40,
   "metadata": {},
   "outputs": [
    {
     "data": {
      "image/png": "[encoded data removed]",
      "text/plain": [
       "<Figure size 640x480 with 2 Axes>"
      ]
     },
     "metadata": {},
     "output_type": "display_data"
    }
   ],
   "source": [
    "log_cm = confusion_matrix(y_val, y_pred)\n",
    "log_disp = ConfusionMatrixDisplay(confusion_matrix = log_cm, display_labels= None)\n",
    "log_disp.plot()\n",
    "plt.show()"
   ]
  },
  {
   "cell_type": "code",
   "execution_count": 41,
   "metadata": {},
   "outputs": [
    {
     "name": "stdout",
     "output_type": "stream",
     "text": [
      "              precision    recall  f1-score   support\n",
      "\n",
      "     opinion       0.99      1.00      0.99      1892\n",
      "       claim       1.00      0.99      0.99      1925\n",
      "\n",
      "    accuracy                           0.99      3817\n",
      "   macro avg       0.99      0.99      0.99      3817\n",
      "weighted avg       0.99      0.99      0.99      3817\n",
      "\n"
     ]
    }
   ],
   "source": [
    "target_labels = ['opinion', 'claim']\n",
    "print(classification_report(y_val, y_pred, target_names=target_labels))"
   ]
  },
  {
   "cell_type": "markdown",
   "metadata": {},
   "source": [
    "return the most important features contributing to the model prediction\n",
    "extract the best feature then turn it from array to panda series then bar plot it for visualization"
   ]
  },
  {
   "cell_type": "markdown",
   "metadata": {},
   "source": [
    "# Catboost"
   ]
  },
  {
   "cell_type": "code",
   "execution_count": 45,
   "metadata": {},
   "outputs": [],
   "source": [
    "from catboost import CatBoostClassifier\n",
    "from sklearn.model_selection import GridSearchCV\n",
    "\n",
    "# Instantiate the CatBoost classifier\n",
    "cb = CatBoostClassifier(\n",
    "    objective='Logloss',  # For binary classification\n",
    "    random_state=0,\n",
    "    verbose=0  # Suppress training output\n",
    ")\n",
    "cv_params = {\n",
    "    'depth': [4, 8, 12],             # Maximum depth of trees\n",
    "    'learning_rate': [0.01, 0.1],    # Step size\n",
    "    'iterations': [300, 500],        # Number of boosting rounds\n",
    "    'l2_leaf_reg': [3, 5],           # L2 regularization\n",
    "    'border_count': [32, 64]         # Number of bins for categorical features\n",
    "}\n",
    "scoring = ['accuracy', 'precision', 'recall', 'f1']\n",
    "cb_cv = GridSearchCV(cb, cv_params, scoring = scoring, cv=5, refit = 'recall')"
   ]
  },
  {
   "cell_type": "code",
   "execution_count": 46,
   "metadata": {},
   "outputs": [
    {
     "name": "stdout",
     "output_type": "stream",
     "text": [
      "CPU times: user 16min 21s, sys: 46.6 s, total: 17min 8s\n",
      "Wall time: 9min 34s\n"
     ]
    },
    {
     "data": {
      "text/html": [
       "<style>#sk-container-id-3 {color: black;}#sk-container-id-3 pre{padding: 0;}#sk-container-id-3 div.sk-toggleable {background-color: white;}#sk-container-id-3 label.sk-toggleable__label {cursor: pointer;display: block;width: 100%;margin-bottom: 0;padding: 0.3em;box-sizing: border-box;text-align: center;}#sk-container-id-3 label.sk-toggleable__label-arrow:before {content: \"▸\";float: left;margin-right: 0.25em;color: #696969;}#sk-container-id-3 label.sk-toggleable__label-arrow:hover:before {color: black;}#sk-container-id-3 div.sk-estimator:hover label.sk-toggleable__label-arrow:before {color: black;}#sk-container-id-3 div.sk-toggleable__content {max-height: 0;max-width: 0;overflow: hidden;text-align: left;background-color: #f0f8ff;}#sk-container-id-3 div.sk-toggleable__content pre {margin: 0.2em;color: black;border-radius: 0.25em;background-color: #f0f8ff;}#sk-container-id-3 input.sk-toggleable__control:checked~div.sk-toggleable__content {max-height: 200px;max-width: 100%;overflow: auto;}#sk-container-id-3 input.sk-toggleable__control:checked~label.sk-toggleable__label-arrow:before {content: \"▾\";}#sk-container-id-3 div.sk-estimator input.sk-toggleable__control:checked~label.sk-toggleable__label {background-color: #d4ebff;}#sk-container-id-3 div.sk-label input.sk-toggleable__control:checked~label.sk-toggleable__label {background-color: #d4ebff;}#sk-container-id-3 input.sk-hidden--visually {border: 0;clip: rect(1px 1px 1px 1px);clip: rect(1px, 1px, 1px, 1px);height: 1px;margin: -1px;overflow: hidden;padding: 0;position: absolute;width: 1px;}#sk-container-id-3 div.sk-estimator {font-family: monospace;background-color: #f0f8ff;border: 1px dotted black;border-radius: 0.25em;box-sizing: border-box;margin-bottom: 0.5em;}#sk-container-id-3 div.sk-estimator:hover {background-color: #d4ebff;}#sk-container-id-3 div.sk-parallel-item::after {content: \"\";width: 100%;border-bottom: 1px solid gray;flex-grow: 1;}#sk-container-id-3 div.sk-label:hover label.sk-toggleable__label {background-color: #d4ebff;}#sk-container-id-3 div.sk-serial::before {content: \"\";position: absolute;border-left: 1px solid gray;box-sizing: border-box;top: 0;bottom: 0;left: 50%;z-index: 0;}#sk-container-id-3 div.sk-serial {display: flex;flex-direction: column;align-items: center;background-color: white;padding-right: 0.2em;padding-left: 0.2em;position: relative;}#sk-container-id-3 div.sk-item {position: relative;z-index: 1;}#sk-container-id-3 div.sk-parallel {display: flex;align-items: stretch;justify-content: center;background-color: white;position: relative;}#sk-container-id-3 div.sk-item::before, #sk-container-id-3 div.sk-parallel-item::before {content: \"\";position: absolute;border-left: 1px solid gray;box-sizing: border-box;top: 0;bottom: 0;left: 50%;z-index: -1;}#sk-container-id-3 div.sk-parallel-item {display: flex;flex-direction: column;z-index: 1;position: relative;background-color: white;}#sk-container-id-3 div.sk-parallel-item:first-child::after {align-self: flex-end;width: 50%;}#sk-container-id-3 div.sk-parallel-item:last-child::after {align-self: flex-start;width: 50%;}#sk-container-id-3 div.sk-parallel-item:only-child::after {width: 0;}#sk-container-id-3 div.sk-dashed-wrapped {border: 1px dashed gray;margin: 0 0.4em 0.5em 0.4em;box-sizing: border-box;padding-bottom: 0.4em;background-color: white;}#sk-container-id-3 div.sk-label label {font-family: monospace;font-weight: bold;display: inline-block;line-height: 1.2em;}#sk-container-id-3 div.sk-label-container {text-align: center;}#sk-container-id-3 div.sk-container {/* jupyter's `normalize.less` sets `[hidden] { display: none; }` but bootstrap.min.css set `[hidden] { display: none !important; }` so we also need the `!important` here to be able to override the default hidden behavior on the sphinx rendered scikit-learn.org. See: https://github.com/scikit-learn/scikit-learn/issues/21755 */display: inline-block !important;position: relative;}#sk-container-id-3 div.sk-text-repr-fallback {display: none;}</style><div id=\"sk-container-id-3\" class=\"sk-top-container\"><div class=\"sk-text-repr-fallback\"><pre>GridSearchCV(cv=5,\n",
       "             estimator=&lt;catboost.core.CatBoostClassifier object at 0x7fcc6dd6e1a0&gt;,\n",
       "             param_grid={&#x27;border_count&#x27;: [32, 64], &#x27;depth&#x27;: [4, 8, 12],\n",
       "                         &#x27;iterations&#x27;: [300, 500], &#x27;l2_leaf_reg&#x27;: [3, 5],\n",
       "                         &#x27;learning_rate&#x27;: [0.01, 0.1]},\n",
       "             refit=&#x27;recall&#x27;, scoring=[&#x27;accuracy&#x27;, &#x27;precision&#x27;, &#x27;recall&#x27;, &#x27;f1&#x27;])</pre><b>In a Jupyter environment, please rerun this cell to show the HTML representation or trust the notebook. <br />On GitHub, the HTML representation is unable to render, please try loading this page with nbviewer.org.</b></div><div class=\"sk-container\" hidden><div class=\"sk-item sk-dashed-wrapped\"><div class=\"sk-label-container\"><div class=\"sk-label sk-toggleable\"><input class=\"sk-toggleable__control sk-hidden--visually\" id=\"sk-estimator-id-7\" type=\"checkbox\" ><label for=\"sk-estimator-id-7\" class=\"sk-toggleable__label sk-toggleable__label-arrow\">GridSearchCV</label><div class=\"sk-toggleable__content\"><pre>GridSearchCV(cv=5,\n",
       "             estimator=&lt;catboost.core.CatBoostClassifier object at 0x7fcc6dd6e1a0&gt;,\n",
       "             param_grid={&#x27;border_count&#x27;: [32, 64], &#x27;depth&#x27;: [4, 8, 12],\n",
       "                         &#x27;iterations&#x27;: [300, 500], &#x27;l2_leaf_reg&#x27;: [3, 5],\n",
       "                         &#x27;learning_rate&#x27;: [0.01, 0.1]},\n",
       "             refit=&#x27;recall&#x27;, scoring=[&#x27;accuracy&#x27;, &#x27;precision&#x27;, &#x27;recall&#x27;, &#x27;f1&#x27;])</pre></div></div></div><div class=\"sk-parallel\"><div class=\"sk-parallel-item\"><div class=\"sk-item\"><div class=\"sk-label-container\"><div class=\"sk-label sk-toggleable\"><input class=\"sk-toggleable__control sk-hidden--visually\" id=\"sk-estimator-id-8\" type=\"checkbox\" ><label for=\"sk-estimator-id-8\" class=\"sk-toggleable__label sk-toggleable__label-arrow\">estimator: CatBoostClassifier</label><div class=\"sk-toggleable__content\"><pre>&lt;catboost.core.CatBoostClassifier object at 0x7fcc6dd6e1a0&gt;</pre></div></div></div><div class=\"sk-serial\"><div class=\"sk-item\"><div class=\"sk-estimator sk-toggleable\"><input class=\"sk-toggleable__control sk-hidden--visually\" id=\"sk-estimator-id-9\" type=\"checkbox\" ><label for=\"sk-estimator-id-9\" class=\"sk-toggleable__label sk-toggleable__label-arrow\">CatBoostClassifier</label><div class=\"sk-toggleable__content\"><pre>&lt;catboost.core.CatBoostClassifier object at 0x7fcc6dd6e1a0&gt;</pre></div></div></div></div></div></div></div></div></div></div>"
      ],
      "text/plain": [
       "GridSearchCV(cv=5,\n",
       "             estimator=<catboost.core.CatBoostClassifier object at 0x7fcc6dd6e1a0>,\n",
       "             param_grid={'border_count': [32, 64], 'depth': [4, 8, 12],\n",
       "                         'iterations': [300, 500], 'l2_leaf_reg': [3, 5],\n",
       "                         'learning_rate': [0.01, 0.1]},\n",
       "             refit='recall', scoring=['accuracy', 'precision', 'recall', 'f1'])"
      ]
     },
     "execution_count": 46,
     "metadata": {},
     "output_type": "execute_result"
    }
   ],
   "source": [
    "%%time\n",
    "cb_cv.fit(x_train_final, y_train)"
   ]
  },
  {
   "cell_type": "code",
   "execution_count": 47,
   "metadata": {},
   "outputs": [
    {
     "data": {
      "text/plain": [
       "1.0"
      ]
     },
     "execution_count": 47,
     "metadata": {},
     "output_type": "execute_result"
    }
   ],
   "source": [
    "cb_cv.best_score_\n",
    "cb_cv.best_params_\n",
    "cb_results_df = pd.DataFrame(cb_cv.cv_results_)\n",
    "cb_results_df['mean_test_precision'][cb_cv.best_index_]"
   ]
  },
  {
   "cell_type": "code",
   "execution_count": 48,
   "metadata": {},
   "outputs": [
    {
     "data": {
      "text/plain": [
       "array([1, 0, 1, ..., 1, 1, 1])"
      ]
     },
     "execution_count": 48,
     "metadata": {},
     "output_type": "execute_result"
    }
   ],
   "source": [
    "y_pred = cb_cv.best_estimator_.predict(x_val_final)\n",
    "y_pred"
   ]
  },
  {
   "cell_type": "code",
   "execution_count": 49,
   "metadata": {},
   "outputs": [
    {
     "data": {
      "image/png": "[encoded data removed]",
      "text/plain": [
       "<Figure size 640x480 with 2 Axes>"
      ]
     },
     "metadata": {},
     "output_type": "display_data"
    }
   ],
   "source": [
    "log_cm = confusion_matrix(y_pred, y_val)\n",
    "log_disp = ConfusionMatrixDisplay(confusion_matrix= log_cm, display_labels=None)\n",
    "log_disp.plot()\n",
    "plt.show()"
   ]
  },
  {
   "cell_type": "code",
   "execution_count": 50,
   "metadata": {},
   "outputs": [
    {
     "name": "stdout",
     "output_type": "stream",
     "text": [
      "              precision    recall  f1-score   support\n",
      "\n",
      "     opinion       1.00      1.00      1.00      1892\n",
      "       claim       1.00      1.00      1.00      1925\n",
      "\n",
      "    accuracy                           1.00      3817\n",
      "   macro avg       1.00      1.00      1.00      3817\n",
      "weighted avg       1.00      1.00      1.00      3817\n",
      "\n"
     ]
    }
   ],
   "source": [
    "target_labels = ['opinion', 'claim']\n",
    "print(classification_report(y_val, y_pred, target_names = target_labels))"
   ]
  },
  {
   "cell_type": "markdown",
   "metadata": {},
   "source": [
    "# SVM "
   ]
  },
  {
   "cell_type": "code",
   "execution_count": 51,
   "metadata": {},
   "outputs": [],
   "source": [
    "from sklearn.svm import SVC\n",
    "from sklearn.model_selection import GridSearchCV\n",
    "from sklearn.metrics import classification_report"
   ]
  },
  {
   "cell_type": "code",
   "execution_count": 52,
   "metadata": {},
   "outputs": [],
   "source": [
    "# kernel = radial basic function, good for non linear problems\n",
    "# allow\n",
    "svm = SVC(kernel='rbf', random_state=42)\n",
    "svm_params = {\n",
    "    'C': [0.1, 1, 10],           # Regularization parameter (higher = stricter margin)\n",
    "    'gamma': ['scale', 'auto', 0.01, 0.1],  # Kernel coefficient (for RBF kernel)\n",
    "    'kernel': ['rbf']             # Using RBF kernel (you can also try 'linear' or 'poly')\n",
    "}\n",
    "scoring = ['accuracy', 'precision', 'recall', 'f1']\n",
    "svm_cv = GridSearchCV(svm, svm_params, scoring = scoring, cv=5, refit = 'recall')"
   ]
  },
  {
   "cell_type": "code",
   "execution_count": 53,
   "metadata": {},
   "outputs": [
    {
     "name": "stdout",
     "output_type": "stream",
     "text": [
      "CPU times: user 10min 42s, sys: 4.61 s, total: 10min 47s\n",
      "Wall time: 10min 47s\n"
     ]
    },
    {
     "data": {
      "text/html": [
       "<style>#sk-container-id-4 {color: black;}#sk-container-id-4 pre{padding: 0;}#sk-container-id-4 div.sk-toggleable {background-color: white;}#sk-container-id-4 label.sk-toggleable__label {cursor: pointer;display: block;width: 100%;margin-bottom: 0;padding: 0.3em;box-sizing: border-box;text-align: center;}#sk-container-id-4 label.sk-toggleable__label-arrow:before {content: \"▸\";float: left;margin-right: 0.25em;color: #696969;}#sk-container-id-4 label.sk-toggleable__label-arrow:hover:before {color: black;}#sk-container-id-4 div.sk-estimator:hover label.sk-toggleable__label-arrow:before {color: black;}#sk-container-id-4 div.sk-toggleable__content {max-height: 0;max-width: 0;overflow: hidden;text-align: left;background-color: #f0f8ff;}#sk-container-id-4 div.sk-toggleable__content pre {margin: 0.2em;color: black;border-radius: 0.25em;background-color: #f0f8ff;}#sk-container-id-4 input.sk-toggleable__control:checked~div.sk-toggleable__content {max-height: 200px;max-width: 100%;overflow: auto;}#sk-container-id-4 input.sk-toggleable__control:checked~label.sk-toggleable__label-arrow:before {content: \"▾\";}#sk-container-id-4 div.sk-estimator input.sk-toggleable__control:checked~label.sk-toggleable__label {background-color: #d4ebff;}#sk-container-id-4 div.sk-label input.sk-toggleable__control:checked~label.sk-toggleable__label {background-color: #d4ebff;}#sk-container-id-4 input.sk-hidden--visually {border: 0;clip: rect(1px 1px 1px 1px);clip: rect(1px, 1px, 1px, 1px);height: 1px;margin: -1px;overflow: hidden;padding: 0;position: absolute;width: 1px;}#sk-container-id-4 div.sk-estimator {font-family: monospace;background-color: #f0f8ff;border: 1px dotted black;border-radius: 0.25em;box-sizing: border-box;margin-bottom: 0.5em;}#sk-container-id-4 div.sk-estimator:hover {background-color: #d4ebff;}#sk-container-id-4 div.sk-parallel-item::after {content: \"\";width: 100%;border-bottom: 1px solid gray;flex-grow: 1;}#sk-container-id-4 div.sk-label:hover label.sk-toggleable__label {background-color: #d4ebff;}#sk-container-id-4 div.sk-serial::before {content: \"\";position: absolute;border-left: 1px solid gray;box-sizing: border-box;top: 0;bottom: 0;left: 50%;z-index: 0;}#sk-container-id-4 div.sk-serial {display: flex;flex-direction: column;align-items: center;background-color: white;padding-right: 0.2em;padding-left: 0.2em;position: relative;}#sk-container-id-4 div.sk-item {position: relative;z-index: 1;}#sk-container-id-4 div.sk-parallel {display: flex;align-items: stretch;justify-content: center;background-color: white;position: relative;}#sk-container-id-4 div.sk-item::before, #sk-container-id-4 div.sk-parallel-item::before {content: \"\";position: absolute;border-left: 1px solid gray;box-sizing: border-box;top: 0;bottom: 0;left: 50%;z-index: -1;}#sk-container-id-4 div.sk-parallel-item {display: flex;flex-direction: column;z-index: 1;position: relative;background-color: white;}#sk-container-id-4 div.sk-parallel-item:first-child::after {align-self: flex-end;width: 50%;}#sk-container-id-4 div.sk-parallel-item:last-child::after {align-self: flex-start;width: 50%;}#sk-container-id-4 div.sk-parallel-item:only-child::after {width: 0;}#sk-container-id-4 div.sk-dashed-wrapped {border: 1px dashed gray;margin: 0 0.4em 0.5em 0.4em;box-sizing: border-box;padding-bottom: 0.4em;background-color: white;}#sk-container-id-4 div.sk-label label {font-family: monospace;font-weight: bold;display: inline-block;line-height: 1.2em;}#sk-container-id-4 div.sk-label-container {text-align: center;}#sk-container-id-4 div.sk-container {/* jupyter's `normalize.less` sets `[hidden] { display: none; }` but bootstrap.min.css set `[hidden] { display: none !important; }` so we also need the `!important` here to be able to override the default hidden behavior on the sphinx rendered scikit-learn.org. See: https://github.com/scikit-learn/scikit-learn/issues/21755 */display: inline-block !important;position: relative;}#sk-container-id-4 div.sk-text-repr-fallback {display: none;}</style><div id=\"sk-container-id-4\" class=\"sk-top-container\"><div class=\"sk-text-repr-fallback\"><pre>GridSearchCV(cv=5, estimator=SVC(random_state=42),\n",
       "             param_grid={&#x27;C&#x27;: [0.1, 1, 10],\n",
       "                         &#x27;gamma&#x27;: [&#x27;scale&#x27;, &#x27;auto&#x27;, 0.01, 0.1],\n",
       "                         &#x27;kernel&#x27;: [&#x27;rbf&#x27;]},\n",
       "             refit=&#x27;recall&#x27;, scoring=[&#x27;accuracy&#x27;, &#x27;precision&#x27;, &#x27;recall&#x27;, &#x27;f1&#x27;])</pre><b>In a Jupyter environment, please rerun this cell to show the HTML representation or trust the notebook. <br />On GitHub, the HTML representation is unable to render, please try loading this page with nbviewer.org.</b></div><div class=\"sk-container\" hidden><div class=\"sk-item sk-dashed-wrapped\"><div class=\"sk-label-container\"><div class=\"sk-label sk-toggleable\"><input class=\"sk-toggleable__control sk-hidden--visually\" id=\"sk-estimator-id-10\" type=\"checkbox\" ><label for=\"sk-estimator-id-10\" class=\"sk-toggleable__label sk-toggleable__label-arrow\">GridSearchCV</label><div class=\"sk-toggleable__content\"><pre>GridSearchCV(cv=5, estimator=SVC(random_state=42),\n",
       "             param_grid={&#x27;C&#x27;: [0.1, 1, 10],\n",
       "                         &#x27;gamma&#x27;: [&#x27;scale&#x27;, &#x27;auto&#x27;, 0.01, 0.1],\n",
       "                         &#x27;kernel&#x27;: [&#x27;rbf&#x27;]},\n",
       "             refit=&#x27;recall&#x27;, scoring=[&#x27;accuracy&#x27;, &#x27;precision&#x27;, &#x27;recall&#x27;, &#x27;f1&#x27;])</pre></div></div></div><div class=\"sk-parallel\"><div class=\"sk-parallel-item\"><div class=\"sk-item\"><div class=\"sk-label-container\"><div class=\"sk-label sk-toggleable\"><input class=\"sk-toggleable__control sk-hidden--visually\" id=\"sk-estimator-id-11\" type=\"checkbox\" ><label for=\"sk-estimator-id-11\" class=\"sk-toggleable__label sk-toggleable__label-arrow\">estimator: SVC</label><div class=\"sk-toggleable__content\"><pre>SVC(random_state=42)</pre></div></div></div><div class=\"sk-serial\"><div class=\"sk-item\"><div class=\"sk-estimator sk-toggleable\"><input class=\"sk-toggleable__control sk-hidden--visually\" id=\"sk-estimator-id-12\" type=\"checkbox\" ><label for=\"sk-estimator-id-12\" class=\"sk-toggleable__label sk-toggleable__label-arrow\">SVC</label><div class=\"sk-toggleable__content\"><pre>SVC(random_state=42)</pre></div></div></div></div></div></div></div></div></div></div>"
      ],
      "text/plain": [
       "GridSearchCV(cv=5, estimator=SVC(random_state=42),\n",
       "             param_grid={'C': [0.1, 1, 10],\n",
       "                         'gamma': ['scale', 'auto', 0.01, 0.1],\n",
       "                         'kernel': ['rbf']},\n",
       "             refit='recall', scoring=['accuracy', 'precision', 'recall', 'f1'])"
      ]
     },
     "execution_count": 53,
     "metadata": {},
     "output_type": "execute_result"
    }
   ],
   "source": [
    "%%time\n",
    "svm_cv.fit(x_train_final, y_train)"
   ]
  },
  {
   "cell_type": "code",
   "execution_count": 80,
   "metadata": {},
   "outputs": [
    {
     "data": {
      "text/plain": [
       "1.0"
      ]
     },
     "execution_count": 80,
     "metadata": {},
     "output_type": "execute_result"
    }
   ],
   "source": [
    "svm_cv.best_score_\n",
    "svm_cv.best_params_\n",
    "svm_results_df = pd.DataFrame(svm_cv.cv_results_)\n",
    "svm_results_df['mean_test_precision'][svm_cv.best_index_]"
   ]
  },
  {
   "cell_type": "code",
   "execution_count": 55,
   "metadata": {},
   "outputs": [
    {
     "data": {
      "image/png": "[encoded data removed]",
      "text/plain": [
       "<Figure size 640x480 with 2 Axes>"
      ]
     },
     "metadata": {},
     "output_type": "display_data"
    }
   ],
   "source": [
    "y_pred = svm_cv.best_estimator_.predict(x_val_final)\n",
    "log_cm = confusion_matrix(y_pred, y_val)\n",
    "log_disp = ConfusionMatrixDisplay(confusion_matrix= log_cm, display_labels=None)\n",
    "log_disp.plot()\n",
    "plt.show()"
   ]
  },
  {
   "cell_type": "markdown",
   "metadata": {},
   "source": [
    "# LightGBM"
   ]
  },
  {
   "cell_type": "code",
   "execution_count": 65,
   "metadata": {},
   "outputs": [],
   "source": [
    "import dask.config\n",
    "\n",
    "# Enable the new query planning rather than disabling it.\n",
    "dask.config.set({\"dataframe.query-planning\": True})\n",
    "\n",
    "# Now import LightGBM and proceed as usual.\n",
    "from lightgbm import LGBMClassifier\n",
    "from sklearn.model_selection import GridSearchCV\n",
    "\n",
    "# Instantiate the LightGBM classifier with a fixed random state.\n",
    "lgbm = LGBMClassifier(random_state=42)\n",
    "\n",
    "# Define the parameter grid for LightGBM.\n",
    "lgbm_params = {\n",
    "    'num_leaves': [31, 50, 70],\n",
    "    'max_depth': [-1, 5, 10],\n",
    "    'learning_rate': [0.01, 0.1, 0.2],\n",
    "    'n_estimators': [100, 200, 500]\n",
    "}\n",
    "\n",
    "scoring = ['accuracy', 'precision', 'recall', 'f1']\n",
    "lgbm_cv = GridSearchCV(lgbm, lgbm_params, scoring=scoring, cv=5, refit='recall')\n"
   ]
  },
  {
   "cell_type": "code",
   "execution_count": null,
   "metadata": {},
   "outputs": [],
   "source": [
    "%%time\n",
    "lgbm_cv.fit(x_train_final, y_train)"
   ]
  },
  {
   "cell_type": "code",
   "execution_count": 67,
   "metadata": {},
   "outputs": [
    {
     "data": {
      "text/plain": [
       "0.999650959860384"
      ]
     },
     "execution_count": 67,
     "metadata": {},
     "output_type": "execute_result"
    }
   ],
   "source": [
    "lgbm_cv.best_score_\n",
    "lgbm_cv.best_params_\n",
    "lgbm_results_df = pd.DataFrame(lgbm_cv.cv_results_)\n",
    "lgbm_results_df['mean_test_precision'][lgbm_cv.best_index_]"
   ]
  },
  {
   "cell_type": "code",
   "execution_count": 68,
   "metadata": {},
   "outputs": [
    {
     "data": {
      "image/png": "[encoded data removed]",
      "text/plain": [
       "<Figure size 640x480 with 2 Axes>"
      ]
     },
     "metadata": {},
     "output_type": "display_data"
    }
   ],
   "source": [
    "y_pred = lgbm_cv.best_estimator_.predict(x_val_final)\n",
    "log_cm = confusion_matrix(y_pred, y_val)\n",
    "log_disp = ConfusionMatrixDisplay(confusion_matrix= log_cm, display_labels=None)\n",
    "log_disp.plot()\n",
    "plt.show()"
   ]
  },
  {
   "cell_type": "markdown",
   "metadata": {},
   "source": [
    "# ADABoost"
   ]
  },
  {
   "cell_type": "code",
   "execution_count": 69,
   "metadata": {},
   "outputs": [],
   "source": [
    "from sklearn.ensemble import AdaBoostClassifier\n",
    "from sklearn.model_selection import GridSearchCV\n",
    "\n",
    "# Instantiate the AdaBoost classifier.\n",
    "# By default, AdaBoost uses decision stumps as base estimators.\n",
    "ada = AdaBoostClassifier(random_state=42)\n",
    "\n",
    "# Define the parameter grid for AdaBoost.\n",
    "ada_params = {\n",
    "    'n_estimators': [50, 100, 200],      # Number of weak learners.\n",
    "    'learning_rate': [0.01, 0.1, 1, 10]    # Weighting applied to each classifier.\n",
    "}\n",
    "\n",
    "# Use the same scoring metrics as before.\n",
    "scoring = ['accuracy', 'precision', 'recall', 'f1']\n",
    "\n",
    "# Set up GridSearchCV for AdaBoost.\n",
    "ada_cv = GridSearchCV(ada, ada_params, scoring=scoring, cv=5, refit='recall')"
   ]
  },
  {
   "cell_type": "code",
   "execution_count": 70,
   "metadata": {},
   "outputs": [
    {
     "name": "stdout",
     "output_type": "stream",
     "text": [
      "CPU times: user 1min 21s, sys: 72.5 ms, total: 1min 21s\n",
      "Wall time: 1min 21s\n"
     ]
    },
    {
     "data": {
      "text/html": [
       "<style>#sk-container-id-6 {color: black;}#sk-container-id-6 pre{padding: 0;}#sk-container-id-6 div.sk-toggleable {background-color: white;}#sk-container-id-6 label.sk-toggleable__label {cursor: pointer;display: block;width: 100%;margin-bottom: 0;padding: 0.3em;box-sizing: border-box;text-align: center;}#sk-container-id-6 label.sk-toggleable__label-arrow:before {content: \"▸\";float: left;margin-right: 0.25em;color: #696969;}#sk-container-id-6 label.sk-toggleable__label-arrow:hover:before {color: black;}#sk-container-id-6 div.sk-estimator:hover label.sk-toggleable__label-arrow:before {color: black;}#sk-container-id-6 div.sk-toggleable__content {max-height: 0;max-width: 0;overflow: hidden;text-align: left;background-color: #f0f8ff;}#sk-container-id-6 div.sk-toggleable__content pre {margin: 0.2em;color: black;border-radius: 0.25em;background-color: #f0f8ff;}#sk-container-id-6 input.sk-toggleable__control:checked~div.sk-toggleable__content {max-height: 200px;max-width: 100%;overflow: auto;}#sk-container-id-6 input.sk-toggleable__control:checked~label.sk-toggleable__label-arrow:before {content: \"▾\";}#sk-container-id-6 div.sk-estimator input.sk-toggleable__control:checked~label.sk-toggleable__label {background-color: #d4ebff;}#sk-container-id-6 div.sk-label input.sk-toggleable__control:checked~label.sk-toggleable__label {background-color: #d4ebff;}#sk-container-id-6 input.sk-hidden--visually {border: 0;clip: rect(1px 1px 1px 1px);clip: rect(1px, 1px, 1px, 1px);height: 1px;margin: -1px;overflow: hidden;padding: 0;position: absolute;width: 1px;}#sk-container-id-6 div.sk-estimator {font-family: monospace;background-color: #f0f8ff;border: 1px dotted black;border-radius: 0.25em;box-sizing: border-box;margin-bottom: 0.5em;}#sk-container-id-6 div.sk-estimator:hover {background-color: #d4ebff;}#sk-container-id-6 div.sk-parallel-item::after {content: \"\";width: 100%;border-bottom: 1px solid gray;flex-grow: 1;}#sk-container-id-6 div.sk-label:hover label.sk-toggleable__label {background-color: #d4ebff;}#sk-container-id-6 div.sk-serial::before {content: \"\";position: absolute;border-left: 1px solid gray;box-sizing: border-box;top: 0;bottom: 0;left: 50%;z-index: 0;}#sk-container-id-6 div.sk-serial {display: flex;flex-direction: column;align-items: center;background-color: white;padding-right: 0.2em;padding-left: 0.2em;position: relative;}#sk-container-id-6 div.sk-item {position: relative;z-index: 1;}#sk-container-id-6 div.sk-parallel {display: flex;align-items: stretch;justify-content: center;background-color: white;position: relative;}#sk-container-id-6 div.sk-item::before, #sk-container-id-6 div.sk-parallel-item::before {content: \"\";position: absolute;border-left: 1px solid gray;box-sizing: border-box;top: 0;bottom: 0;left: 50%;z-index: -1;}#sk-container-id-6 div.sk-parallel-item {display: flex;flex-direction: column;z-index: 1;position: relative;background-color: white;}#sk-container-id-6 div.sk-parallel-item:first-child::after {align-self: flex-end;width: 50%;}#sk-container-id-6 div.sk-parallel-item:last-child::after {align-self: flex-start;width: 50%;}#sk-container-id-6 div.sk-parallel-item:only-child::after {width: 0;}#sk-container-id-6 div.sk-dashed-wrapped {border: 1px dashed gray;margin: 0 0.4em 0.5em 0.4em;box-sizing: border-box;padding-bottom: 0.4em;background-color: white;}#sk-container-id-6 div.sk-label label {font-family: monospace;font-weight: bold;display: inline-block;line-height: 1.2em;}#sk-container-id-6 div.sk-label-container {text-align: center;}#sk-container-id-6 div.sk-container {/* jupyter's `normalize.less` sets `[hidden] { display: none; }` but bootstrap.min.css set `[hidden] { display: none !important; }` so we also need the `!important` here to be able to override the default hidden behavior on the sphinx rendered scikit-learn.org. See: https://github.com/scikit-learn/scikit-learn/issues/21755 */display: inline-block !important;position: relative;}#sk-container-id-6 div.sk-text-repr-fallback {display: none;}</style><div id=\"sk-container-id-6\" class=\"sk-top-container\"><div class=\"sk-text-repr-fallback\"><pre>GridSearchCV(cv=5, estimator=AdaBoostClassifier(random_state=42),\n",
       "             param_grid={&#x27;learning_rate&#x27;: [0.01, 0.1, 1, 10],\n",
       "                         &#x27;n_estimators&#x27;: [50, 100, 200]},\n",
       "             refit=&#x27;recall&#x27;, scoring=[&#x27;accuracy&#x27;, &#x27;precision&#x27;, &#x27;recall&#x27;, &#x27;f1&#x27;])</pre><b>In a Jupyter environment, please rerun this cell to show the HTML representation or trust the notebook. <br />On GitHub, the HTML representation is unable to render, please try loading this page with nbviewer.org.</b></div><div class=\"sk-container\" hidden><div class=\"sk-item sk-dashed-wrapped\"><div class=\"sk-label-container\"><div class=\"sk-label sk-toggleable\"><input class=\"sk-toggleable__control sk-hidden--visually\" id=\"sk-estimator-id-16\" type=\"checkbox\" ><label for=\"sk-estimator-id-16\" class=\"sk-toggleable__label sk-toggleable__label-arrow\">GridSearchCV</label><div class=\"sk-toggleable__content\"><pre>GridSearchCV(cv=5, estimator=AdaBoostClassifier(random_state=42),\n",
       "             param_grid={&#x27;learning_rate&#x27;: [0.01, 0.1, 1, 10],\n",
       "                         &#x27;n_estimators&#x27;: [50, 100, 200]},\n",
       "             refit=&#x27;recall&#x27;, scoring=[&#x27;accuracy&#x27;, &#x27;precision&#x27;, &#x27;recall&#x27;, &#x27;f1&#x27;])</pre></div></div></div><div class=\"sk-parallel\"><div class=\"sk-parallel-item\"><div class=\"sk-item\"><div class=\"sk-label-container\"><div class=\"sk-label sk-toggleable\"><input class=\"sk-toggleable__control sk-hidden--visually\" id=\"sk-estimator-id-17\" type=\"checkbox\" ><label for=\"sk-estimator-id-17\" class=\"sk-toggleable__label sk-toggleable__label-arrow\">estimator: AdaBoostClassifier</label><div class=\"sk-toggleable__content\"><pre>AdaBoostClassifier(random_state=42)</pre></div></div></div><div class=\"sk-serial\"><div class=\"sk-item\"><div class=\"sk-estimator sk-toggleable\"><input class=\"sk-toggleable__control sk-hidden--visually\" id=\"sk-estimator-id-18\" type=\"checkbox\" ><label for=\"sk-estimator-id-18\" class=\"sk-toggleable__label sk-toggleable__label-arrow\">AdaBoostClassifier</label><div class=\"sk-toggleable__content\"><pre>AdaBoostClassifier(random_state=42)</pre></div></div></div></div></div></div></div></div></div></div>"
      ],
      "text/plain": [
       "GridSearchCV(cv=5, estimator=AdaBoostClassifier(random_state=42),\n",
       "             param_grid={'learning_rate': [0.01, 0.1, 1, 10],\n",
       "                         'n_estimators': [50, 100, 200]},\n",
       "             refit='recall', scoring=['accuracy', 'precision', 'recall', 'f1'])"
      ]
     },
     "execution_count": 70,
     "metadata": {},
     "output_type": "execute_result"
    }
   ],
   "source": [
    "%%time\n",
    "ada_cv.fit(x_train_final, y_train)"
   ]
  },
  {
   "cell_type": "code",
   "execution_count": 71,
   "metadata": {},
   "outputs": [
    {
     "data": {
      "text/plain": [
       "0.9993067546739585"
      ]
     },
     "execution_count": 71,
     "metadata": {},
     "output_type": "execute_result"
    }
   ],
   "source": [
    "ada_cv.best_score_\n",
    "ada_cv.best_params_\n",
    "ada_results_df = pd.DataFrame(ada_cv.cv_results_)\n",
    "ada_results_df['mean_test_precision'][ada_cv.best_index_]"
   ]
  },
  {
   "cell_type": "code",
   "execution_count": 72,
   "metadata": {},
   "outputs": [
    {
     "data": {
      "image/png": "[encoded data removed]",
      "text/plain": [
       "<Figure size 640x480 with 2 Axes>"
      ]
     },
     "metadata": {},
     "output_type": "display_data"
    }
   ],
   "source": [
    "y_pred = ada_cv.best_estimator_.predict(x_val_final)\n",
    "log_cm = confusion_matrix(y_pred, y_val)\n",
    "log_disp = ConfusionMatrixDisplay(confusion_matrix= log_cm, display_labels=None)\n",
    "log_disp.plot()\n",
    "plt.show()"
   ]
  },
  {
   "cell_type": "code",
   "execution_count": 81,
   "metadata": {},
   "outputs": [],
   "source": [
    "# Example: suppose you've obtained the best cross-validation accuracy for each model\n",
    "rf_accuracy = rf_results_df['mean_test_precision'][rf_cv.best_index_]\n",
    "xgb_accuracy = xgb_results_df['mean_test_precision'][xgb_cv.best_index_]\n",
    "cb_accuracy = cb_results_df['mean_test_precision'][cb_cv.best_index_]\n",
    "svm_accuracy = svm_results_df['mean_test_precision'][svm_cv.best_index_]     # e.g., 0.87\n",
    "lgbm_accuracy = lgbm_results_df['mean_test_precision'][lgbm_cv.best_index_]      # e.g., 0.90\n",
    "ada_accuracy = ada_results_df['mean_test_precision'][ada_cv.best_index_]      # e.g., 0.85\n",
    "# You can add others similarly\n",
    "\n",
    "# Create a dictionary (or two lists) for the model names and their accuracies:\n",
    "accuracy_results = {\n",
    "    'Random Forest': rf_accuracy,\n",
    "    'XGBoost': xgb_accuracy,\n",
    "    'CatBoost': cb_accuracy,\n",
    "    'SVM': svm_accuracy,\n",
    "    'LightGBM': lgbm_accuracy,\n",
    "    'AdaBoost': ada_accuracy,\n",
    "    \n",
    "}\n"
   ]
  },
  {
   "cell_type": "code",
   "execution_count": 86,
   "metadata": {},
   "outputs": [
    {
     "data": {
      "application/vnd.jupyter.widget-view+json": {
       "model_id": "1aba36ff6bc546918d03798e2688522d",
       "version_major": 2,
       "version_minor": 0
      },
      "image/png": "[encoded data removed]",
      "text/html": [
       "\n",
       "            <div style=\"display: inline-block;\">\n",
       "                <div class=\"jupyter-widgets widget-label\" style=\"text-align: center;\">\n",
       "                    Figure\n",
       "                </div>\n",
       "                <img src='data:image/png;base64,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' width=800.0/>\n",
       "            </div>\n",
       "        "
      ],
      "text/plain": [
       "Canvas(toolbar=Toolbar(toolitems=[('Home', 'Reset original view', 'home', 'home'), ('Back', 'Back to previous …"
      ]
     },
     "metadata": {},
     "output_type": "display_data"
    }
   ],
   "source": [
    "models = list(accuracy_results.keys())\n",
    "accuracies = [acc * 100 for acc in accuracy_results.values()]\n",
    "\n",
    "plt.figure(figsize=(8, 6))\n",
    "bars = plt.bar(models, accuracies, color=['#4daf4a', '#377eb8', '#e41a1c'])\n",
    "\n",
    "plt.xlabel('Model', fontsize=14)\n",
    "plt.ylabel('Accuracy (%)', fontsize=14)\n",
    "plt.title('Comparison of Model Accuracy', fontsize=16)\n",
    "plt.ylim(99, 100)  # Limit the y-axis to 90% - 100%\n",
    "\n",
    "# Annotate each bar with its percentage value.\n",
    "for bar in bars:\n",
    "    yval = bar.get_height()\n",
    "    plt.text(bar.get_x() + bar.get_width()/2.0, yval + 0.5, f'{yval:.2f}%', \n",
    "             ha='center', va='bottom', fontsize=12)\n",
    "\n",
    "plt.show()"
   ]
  },
  {
   "cell_type": "code",
   "execution_count": 87,
   "metadata": {},
   "outputs": [
    {
     "data": {
      "application/vnd.jupyter.widget-view+json": {
       "model_id": "40e6ee1d33f74a3989b60af949766c8e",
       "version_major": 2,
       "version_minor": 0
      },
      "image/png": "[encoded data removed]",
      "text/html": [
       "\n",
       "            <div style=\"display: inline-block;\">\n",
       "                <div class=\"jupyter-widgets widget-label\" style=\"text-align: center;\">\n",
       "                    Figure\n",
       "                </div>\n",
       "                <img src='data:image/png;base64,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' width=640.0/>\n",
       "            </div>\n",
       "        "
      ],
      "text/plain": [
       "Canvas(toolbar=Toolbar(toolitems=[('Home', 'Reset original view', 'home', 'home'), ('Back', 'Back to previous …"
      ]
     },
     "metadata": {},
     "output_type": "display_data"
    }
   ],
   "source": [
    "y_pred = cb_cv.best_estimator_.predict(x_test_final)\n",
    "log_cm = confusion_matrix(y_test, y_pred)\n",
    "log_disp = ConfusionMatrixDisplay(confusion_matrix = log_cm, display_labels= None)\n",
    "log_disp.plot()\n",
    "plt.show()"
   ]
  },
  {
   "cell_type": "code",
   "execution_count": 88,
   "metadata": {},
   "outputs": [
    {
     "data": {
      "application/vnd.jupyter.widget-view+json": {
       "model_id": "e90c269891a841a38422794f3e75adb9",
       "version_major": 2,
       "version_minor": 0
      },
      "image/png": "[encoded data removed]",
      "text/html": [
       "\n",
       "            <div style=\"display: inline-block;\">\n",
       "                <div class=\"jupyter-widgets widget-label\" style=\"text-align: center;\">\n",
       "                    Figure\n",
       "                </div>\n",
       "                <img src='data:image/png;base64,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' width=640.0/>\n",
       "            </div>\n",
       "        "
      ],
      "text/plain": [
       "Canvas(toolbar=Toolbar(toolitems=[('Home', 'Reset original view', 'home', 'home'), ('Back', 'Back to previous …"
      ]
     },
     "metadata": {},
     "output_type": "display_data"
    }
   ],
   "source": [
    "importances = rf_cv.best_estimator_.feature_importances_\n",
    "rf_importances = pd.Series(importances, index=x_test_final.columns)\n",
    "\n",
    "fig, ax = plt.subplots()\n",
    "rf_importances.plot.bar(ax=ax)\n",
    "ax.set_title('Feature importances')\n",
    "ax.set_ylabel('Mean decrease in impurity')\n",
    "fig.tight_layout()"
   ]
  }
 ],
 "metadata": {
  "colab": {
   "provenance": [],
   "toc_visible": true
  },
  "kernelspec": {
   "display_name": "Python 3 (ipykernel)",
   "language": "python",
   "name": "python3"
  },
  "language_info": {
   "codemirror_mode": {
    "name": "ipython",
    "version": 3
   },
   "file_extension": ".py",
   "mimetype": "text/x-python",
   "name": "python",
   "nbconvert_exporter": "python",
   "pygments_lexer": "ipython3",
   "version": "3.10.6"
  }
 },
 "nbformat": 4,
 "nbformat_minor": 1
}
